{
 "cells": [
  {
   "cell_type": "markdown",
   "metadata": {
    "slideshow": {
     "slide_type": "slide"
    }
   },
   "source": [
    "# Advanced python CoP"
   ]
  },
  {
   "cell_type": "markdown",
   "metadata": {},
   "source": [
    "## Table of contents:\n",
    "* Managing multiple python versions\n",
    "* pip common issues\n",
    "* virtualenv and its many wrappers"
   ]
  },
  {
   "cell_type": "code",
   "execution_count": 94,
   "metadata": {},
   "outputs": [
    {
     "data": {
      "text/html": [
       "<blockquote class=\"reddit-card\" data-card-created=\"1582892002\"><a href=\"https://www.reddit.com/r/ProgrammerHumor/comments/at77za/new_python_projects/\">New Python projects</a> from <a href=\"http://www.reddit.com/r/ProgrammerHumor\">r/ProgrammerHumor</a></blockquote>\n",
       "<script async src=\"//embed.redditmedia.com/widgets/platform.js\" charset=\"UTF-8\"></script>\n"
      ],
      "text/plain": [
       "<IPython.core.display.HTML object>"
      ]
     },
     "metadata": {},
     "output_type": "display_data"
    }
   ],
   "source": [
    "%%HTML\n",
    "<blockquote class=\"reddit-card\" data-card-created=\"1582892002\"><a href=\"https://www.reddit.com/r/ProgrammerHumor/comments/at77za/new_python_projects/\">New Python projects</a> from <a href=\"http://www.reddit.com/r/ProgrammerHumor\">r/ProgrammerHumor</a></blockquote>\n",
    "<script async src=\"//embed.redditmedia.com/widgets/platform.js\" charset=\"UTF-8\"></script>"
   ]
  },
  {
   "cell_type": "markdown",
   "metadata": {},
   "source": [
    "### Multiple python versions on ubuntu"
   ]
  },
  {
   "cell_type": "markdown",
   "metadata": {},
   "source": [
    "Up to ubuntu 19, ubuntu comes with 2 versions of python python2.x and python3.x. For ubuntu 18.04 it's python2.7 and python3.6."
   ]
  },
  {
   "cell_type": "code",
   "execution_count": 11,
   "metadata": {},
   "outputs": [
    {
     "name": "stdout",
     "output_type": "stream",
     "text": [
      "Python 2.7.17\r\n"
     ]
    }
   ],
   "source": [
    "! python2 --version"
   ]
  },
  {
   "cell_type": "code",
   "execution_count": 22,
   "metadata": {},
   "outputs": [
    {
     "name": "stdout",
     "output_type": "stream",
     "text": [
      "Python 3.6.9\r\n"
     ]
    }
   ],
   "source": [
    "! python3 --version"
   ]
  },
  {
   "cell_type": "markdown",
   "metadata": {},
   "source": [
    "python3 / python2 are just symlinks to the default python2.x and python 3.x versions"
   ]
  },
  {
   "cell_type": "code",
   "execution_count": 23,
   "metadata": {},
   "outputs": [
    {
     "name": "stdout",
     "output_type": "stream",
     "text": [
      "lrwxrwxrwx 1 root root 9 gru  3 11:20 /usr/bin/python3 -> python3.6\r\n"
     ]
    }
   ],
   "source": [
    "! ls -l $(which python3)"
   ]
  },
  {
   "cell_type": "markdown",
   "metadata": {},
   "source": [
    "How to install some other version?"
   ]
  },
  {
   "cell_type": "markdown",
   "metadata": {},
   "source": [
    "https://launchpad.net/~deadsnakes/+archive/ubuntu/ppa"
   ]
  },
  {
   "cell_type": "code",
   "execution_count": 42,
   "metadata": {},
   "outputs": [
    {
     "name": "stdout",
     "output_type": "stream",
     "text": [
      "Python 3.9.0a4\r\n"
     ]
    }
   ],
   "source": [
    "! python3.9 --version"
   ]
  },
  {
   "cell_type": "markdown",
   "metadata": {},
   "source": [
    "If the version is not there, you still can build python binary from sources."
   ]
  },
  {
   "cell_type": "code",
   "execution_count": 43,
   "metadata": {},
   "outputs": [],
   "source": [
    "# git clone https://github.com/python/cpython.git\n",
    "# git checkout v1.0.1\n",
    "# ./configure && make && ./python --version"
   ]
  },
  {
   "cell_type": "markdown",
   "metadata": {},
   "source": [
    "# Never remove python from debian-based distros"
   ]
  },
  {
   "cell_type": "markdown",
   "metadata": {},
   "source": [
    "$ grep -rni /usr/bin/python3 /usr/ --exclude=\"*.py\"  \n",
    "sbin/aptd:1:#! /usr/bin/python3  \n",
    "bin/keyring:1:#!/usr/bin/python3  \n",
    "bin/gnome-terminal:1:#!/usr/bin/python3  \n",
    "..."
   ]
  },
  {
   "cell_type": "markdown",
   "metadata": {},
   "source": [
    "#### Some cli tools installed with pip create an entry script. So, which python version does my python tool use?"
   ]
  },
  {
   "cell_type": "code",
   "execution_count": 2,
   "metadata": {},
   "outputs": [
    {
     "name": "stdout",
     "output_type": "stream",
     "text": [
      "black, version 19.10b0\r\n"
     ]
    }
   ],
   "source": [
    "! black --version"
   ]
  },
  {
   "cell_type": "code",
   "execution_count": 4,
   "metadata": {},
   "outputs": [
    {
     "name": "stdout",
     "output_type": "stream",
     "text": [
      "/home/gjklv8/.local/bin/black\r\n"
     ]
    }
   ],
   "source": [
    "! which black"
   ]
  },
  {
   "cell_type": "code",
   "execution_count": 37,
   "metadata": {},
   "outputs": [
    {
     "name": "stdout",
     "output_type": "stream",
     "text": [
      "#!/usr/bin/python3.8\r\n"
     ]
    }
   ],
   "source": [
    "! head -n1 $(which black)"
   ]
  },
  {
   "cell_type": "markdown",
   "metadata": {},
   "source": [
    "Run the tool with different python version"
   ]
  },
  {
   "cell_type": "code",
   "execution_count": 38,
   "metadata": {},
   "outputs": [
    {
     "name": "stdout",
     "output_type": "stream",
     "text": [
      "black.py, version 19.10b0\r\n"
     ]
    }
   ],
   "source": [
    "! python3.6 -m black --version"
   ]
  },
  {
   "cell_type": "markdown",
   "metadata": {},
   "source": [
    "Of course i had installed black for python3.6, but not for python3.7:"
   ]
  },
  {
   "cell_type": "code",
   "execution_count": 41,
   "metadata": {},
   "outputs": [
    {
     "name": "stdout",
     "output_type": "stream",
     "text": [
      "/usr/bin/python3.7: No module named black\r\n"
     ]
    }
   ],
   "source": [
    "! python3.7 -m black --version"
   ]
  },
  {
   "cell_type": "markdown",
   "metadata": {},
   "source": [
    "## So how do you install pip package for a specific python version?"
   ]
  },
  {
   "cell_type": "markdown",
   "metadata": {},
   "source": [
    "But first, install pip. The official way: https://pip.pypa.io/en/stable/installing/"
   ]
  },
  {
   "cell_type": "markdown",
   "metadata": {},
   "source": [
    "#### System wide:"
   ]
  },
  {
   "cell_type": "code",
   "execution_count": 50,
   "metadata": {},
   "outputs": [],
   "source": [
    "# sudo python3.6 get-pip.py"
   ]
  },
  {
   "cell_type": "code",
   "execution_count": 53,
   "metadata": {},
   "outputs": [
    {
     "name": "stdout",
     "output_type": "stream",
     "text": [
      "/usr/local/bin/pip3.6\r\n"
     ]
    }
   ],
   "source": [
    "! which pip3.6"
   ]
  },
  {
   "cell_type": "markdown",
   "metadata": {},
   "source": [
    "#### Just for the current user:"
   ]
  },
  {
   "cell_type": "code",
   "execution_count": null,
   "metadata": {},
   "outputs": [],
   "source": [
    "# python3.8 get-pip.py --user"
   ]
  },
  {
   "cell_type": "code",
   "execution_count": 52,
   "metadata": {},
   "outputs": [
    {
     "name": "stdout",
     "output_type": "stream",
     "text": [
      "/home/gjklv8/.local/bin/pip3.8\r\n"
     ]
    }
   ],
   "source": [
    "! which pip3.8"
   ]
  },
  {
   "cell_type": "markdown",
   "metadata": {},
   "source": [
    "/home/gjklv8/.local/bin needs to be added to $PATH for this to work. Same goes for all scripts installed with pip install --user"
   ]
  },
  {
   "cell_type": "markdown",
   "metadata": {},
   "source": [
    "get-pip script will create a pipX script depending on the X python version used to run get-pip.py"
   ]
  },
  {
   "cell_type": "markdown",
   "metadata": {},
   "source": [
    "You can also use linux package manager to install pip"
   ]
  },
  {
   "cell_type": "code",
   "execution_count": 55,
   "metadata": {},
   "outputs": [],
   "source": [
    "# sudo apt install python3-pip"
   ]
  },
  {
   "cell_type": "markdown",
   "metadata": {},
   "source": [
    "But this option has some issues:\n",
    "- you can't choose python version other than python2 and python3\n",
    "- you get old pip version\n",
    "- pip will tell you that \"you should upgrade with pip install -U pip\" which will break pip :D https://github.com/pypa/pip/issues/5599"
   ]
  },
  {
   "cell_type": "markdown",
   "metadata": {},
   "source": [
    "Pip is just a python module, so you can always use -m"
   ]
  },
  {
   "cell_type": "code",
   "execution_count": 57,
   "metadata": {},
   "outputs": [],
   "source": [
    "# python3.7 -m pip install black --user"
   ]
  },
  {
   "cell_type": "markdown",
   "metadata": {},
   "source": [
    "## I have 2 scripts / projects. Both use the same python version, both use the same python module, but the first one works only with 1.1 version and the second only with 1.2."
   ]
  },
  {
   "cell_type": "markdown",
   "metadata": {},
   "source": [
    "# Virtualenv - separate python environment for each project "
   ]
  },
  {
   "cell_type": "markdown",
   "metadata": {},
   "source": [
    "### virtualenv vs venv"
   ]
  },
  {
   "cell_type": "code",
   "execution_count": 95,
   "metadata": {},
   "outputs": [
    {
     "data": {
      "text/html": [
       "<blockquote class=\"reddit-card\" data-card-created=\"1582892091\"><a href=\"https://www.reddit.com/r/ProgrammerHumor/comments/91vtas/python_27/\">Python 2.7</a> from <a href=\"http://www.reddit.com/r/ProgrammerHumor\">r/ProgrammerHumor</a></blockquote>\n",
       "<script async src=\"//embed.redditmedia.com/widgets/platform.js\" charset=\"UTF-8\"></script>\n"
      ],
      "text/plain": [
       "<IPython.core.display.HTML object>"
      ]
     },
     "metadata": {},
     "output_type": "display_data"
    }
   ],
   "source": [
    "%%HTML\n",
    "<blockquote class=\"reddit-card\" data-card-created=\"1582892091\"><a href=\"https://www.reddit.com/r/ProgrammerHumor/comments/91vtas/python_27/\">Python 2.7</a> from <a href=\"http://www.reddit.com/r/ProgrammerHumor\">r/ProgrammerHumor</a></blockquote>\n",
    "<script async src=\"//embed.redditmedia.com/widgets/platform.js\" charset=\"UTF-8\"></script>"
   ]
  },
  {
   "cell_type": "markdown",
   "metadata": {},
   "source": [
    "Virtualenv is a community maintained package, which was added to python standard library in python 3.3. Virtualenv is actually quite popular, because it has some extra features and works for both python2 and python3."
   ]
  },
  {
   "cell_type": "code",
   "execution_count": 58,
   "metadata": {},
   "outputs": [
    {
     "name": "stdout",
     "output_type": "stream",
     "text": [
      "The virtual environment was not created successfully because ensurepip is not\r\n",
      "available.  On Debian/Ubuntu systems, you need to install the python3-venv\r\n",
      "package using the following command.\r\n",
      "\r\n",
      "    apt-get install python3-venv\r\n",
      "\r\n",
      "You may need to use sudo with that command.  After installing the python3-venv\r\n",
      "package, recreate your virtual environment.\r\n",
      "\r\n",
      "Failing command: ['/home/gjklv8/repos/advanced-python-course/venv_dir/bin/python3.8', '-Im', 'ensurepip', '--upgrade', '--default-pip']\r\n",
      "\r\n"
     ]
    }
   ],
   "source": [
    "! python3.8 -m venv venv_dir"
   ]
  },
  {
   "cell_type": "markdown",
   "metadata": {},
   "source": [
    "The apt package python3.8 by default doesn't include venv :("
   ]
  },
  {
   "cell_type": "code",
   "execution_count": 59,
   "metadata": {},
   "outputs": [],
   "source": [
    "# sudo apt install python3.8-venv"
   ]
  },
  {
   "cell_type": "code",
   "execution_count": 87,
   "metadata": {},
   "outputs": [],
   "source": [
    "! python3.8 -m venv venv_dir"
   ]
  },
  {
   "cell_type": "code",
   "execution_count": 73,
   "metadata": {},
   "outputs": [
    {
     "name": "stdout",
     "output_type": "stream",
     "text": [
      "\u001b[01;34mvenv_dir/\u001b[00m\r\n",
      "├── \u001b[01;34mbin\u001b[00m\r\n",
      "│   ├── activate\r\n",
      "│   ├── activate.csh\r\n",
      "│   ├── activate.fish\r\n",
      "│   ├── Activate.ps1\r\n",
      "│   ├── \u001b[01;32measy_install\u001b[00m\r\n",
      "│   ├── \u001b[01;32measy_install-3.8\u001b[00m\r\n",
      "│   ├── \u001b[01;32mpip\u001b[00m\r\n",
      "│   ├── \u001b[01;32mpip3\u001b[00m\r\n",
      "│   ├── \u001b[01;32mpip3.8\u001b[00m\r\n",
      "│   ├── \u001b[01;36mpython\u001b[00m -> \u001b[01;32mpython3.8\u001b[00m\r\n",
      "│   ├── \u001b[01;36mpython3\u001b[00m -> \u001b[01;32mpython3.8\u001b[00m\r\n",
      "│   └── \u001b[01;36mpython3.8\u001b[00m -> \u001b[01;32m/usr/bin/python3.8\u001b[00m\r\n",
      "├── \u001b[01;34minclude\u001b[00m\r\n",
      "├── \u001b[01;34mlib\u001b[00m\r\n",
      "│   └── \u001b[01;34mpython3.8\u001b[00m\r\n",
      "│       └── \u001b[01;34msite-packages\u001b[00m\r\n",
      "│           ├── easy_install.py\r\n",
      "│           ├── \u001b[01;34mpip\u001b[00m\r\n",
      "│           ├── \u001b[01;34mpip-19.2.3.dist-info\u001b[00m\r\n",
      "│           ├── \u001b[01;34mpkg_resources\u001b[00m\r\n",
      "│           ├── \u001b[01;34m__pycache__\u001b[00m\r\n",
      "│           ├── \u001b[01;34msetuptools\u001b[00m\r\n",
      "│           └── \u001b[01;34msetuptools-41.2.0.dist-info\u001b[00m\r\n",
      "├── \u001b[01;36mlib64\u001b[00m -> \u001b[01;34mlib\u001b[00m\r\n",
      "└── pyvenv.cfg\r\n",
      "\r\n",
      "12 directories, 14 files\r\n"
     ]
    }
   ],
   "source": [
    "! tree -L 4 venv_dir/"
   ]
  },
  {
   "cell_type": "markdown",
   "metadata": {},
   "source": [
    "Activate the virtual enviroment with venv_dir/bin/activate. deactivate will be available in PATH to exit venv. And that's it. (can't do that in ipython)"
   ]
  },
  {
   "cell_type": "code",
   "execution_count": 83,
   "metadata": {},
   "outputs": [],
   "source": [
    "# source ./venv_dir/bin/activate\n",
    "# pip install pyjokes\n",
    "# python -c \"import pyjokes; print(pyjokes.get_joke())\"\n",
    "# \"An SQL query goes into a bar, walks up to two tables and asks, 'Can I join you?'\""
   ]
  },
  {
   "cell_type": "code",
   "execution_count": 78,
   "metadata": {},
   "outputs": [],
   "source": [
    "# deactivate"
   ]
  },
  {
   "cell_type": "code",
   "execution_count": 85,
   "metadata": {},
   "outputs": [],
   "source": [
    "# python -c \"import pyjokes; print(pyjokes.get_joke())\"\n",
    "# Traceback (most recent call last):\n",
    "#  File \"<string>\", line 1, in <module>\n",
    "# ImportError: No module named pyjokes"
   ]
  },
  {
   "cell_type": "code",
   "execution_count": 81,
   "metadata": {
    "scrolled": false
   },
   "outputs": [
    {
     "name": "stdout",
     "output_type": "stream",
     "text": [
      "\u001b[01;34mvenv_dir/\u001b[00m\r\n",
      "├── \u001b[01;34mbin\u001b[00m\r\n",
      "│   ├── activate\r\n",
      "│   ├── activate.csh\r\n",
      "│   ├── activate.fish\r\n",
      "│   ├── Activate.ps1\r\n",
      "│   ├── \u001b[01;32measy_install\u001b[00m\r\n",
      "│   ├── \u001b[01;32measy_install-3.8\u001b[00m\r\n",
      "│   ├── \u001b[01;32mpip\u001b[00m\r\n",
      "│   ├── \u001b[01;32mpip3\u001b[00m\r\n",
      "│   ├── \u001b[01;32mpip3.8\u001b[00m\r\n",
      "│   ├── \u001b[01;32mpyjoke\u001b[00m\r\n",
      "│   ├── \u001b[01;32mpyjokes\u001b[00m\r\n",
      "│   ├── \u001b[01;36mpython\u001b[00m -> \u001b[01;32mpython3.8\u001b[00m\r\n",
      "│   ├── \u001b[01;36mpython3\u001b[00m -> \u001b[01;32mpython3.8\u001b[00m\r\n",
      "│   └── \u001b[01;36mpython3.8\u001b[00m -> \u001b[01;32m/usr/bin/python3.8\u001b[00m\r\n",
      "├── \u001b[01;34minclude\u001b[00m\r\n",
      "├── \u001b[01;34mlib\u001b[00m\r\n",
      "│   └── \u001b[01;34mpython3.8\u001b[00m\r\n",
      "│       └── \u001b[01;34msite-packages\u001b[00m\r\n",
      "│           ├── easy_install.py\r\n",
      "│           ├── \u001b[01;34mpip\u001b[00m\r\n",
      "│           ├── \u001b[01;34mpip-19.2.3.dist-info\u001b[00m\r\n",
      "│           ├── \u001b[01;34mpkg_resources\u001b[00m\r\n",
      "│           ├── \u001b[01;34m__pycache__\u001b[00m\r\n",
      "│           ├── \u001b[01;34mpyjokes\u001b[00m\r\n",
      "│           ├── \u001b[01;34mpyjokes-0.6.0.dist-info\u001b[00m\r\n",
      "│           ├── \u001b[01;34mpyjokescli\u001b[00m\r\n",
      "│           ├── \u001b[01;34msetuptools\u001b[00m\r\n",
      "│           └── \u001b[01;34msetuptools-41.2.0.dist-info\u001b[00m\r\n",
      "├── \u001b[01;36mlib64\u001b[00m -> \u001b[01;34mlib\u001b[00m\r\n",
      "└── pyvenv.cfg\r\n",
      "\r\n",
      "15 directories, 16 files\r\n"
     ]
    }
   ],
   "source": [
    "! tree -L 4 venv_dir/"
   ]
  },
  {
   "cell_type": "code",
   "execution_count": 92,
   "metadata": {
    "scrolled": false
   },
   "outputs": [
    {
     "data": {
      "text/html": [
       "<a href=\"https://imgflip.com/i/3qokvk\"><img src=\"https://i.imgflip.com/3qokvk.jpg\" title=\"made at imgflip.com\"/></a>\n"
      ],
      "text/plain": [
       "<IPython.core.display.HTML object>"
      ]
     },
     "metadata": {},
     "output_type": "display_data"
    }
   ],
   "source": [
    "%%HTML\n",
    "<a href=\"https://imgflip.com/i/3qokvk\"><img src=\"https://i.imgflip.com/3qokvk.jpg\" title=\"made at imgflip.com\"/></a>"
   ]
  },
  {
   "cell_type": "markdown",
   "metadata": {},
   "source": [
    "Python looks for site-packages relative to its path. Activate just inserts venv directory to PATH and prepares deactivete command."
   ]
  },
  {
   "cell_type": "markdown",
   "metadata": {},
   "source": [
    "Pycharm does the same thing when you create new project with new virtualenv interpreter."
   ]
  },
  {
   "cell_type": "markdown",
   "metadata": {},
   "source": [
    "That's actually all you need to know about virtual environments, but there's also a lot of wrappers that provide additional functionality:\n",
    "- combining python version management with venv\n",
    "- listing all created venvs \n",
    "- activating venv by name \n",
    "- pythonversion + venv + external dependencies\n",
    "\n",
    "\n",
    "- ([virtualenvwrapper](https://virtualenvwrapper.readthedocs.io/en/latest/))\n",
    "- [pyenv](https://realpython.com/intro-to-pyenv/#using-pyenv-to-install-python)\n",
    "- [virtualenvwrapper](https://virtualenvwrapper.readthedocs.io/en/latest/)\n",
    "- https://stackoverflow.com/questions/41573587/what-is-the-difference-between-venv-pyvenv-pyenv-virtualenv-virtualenvwrappe"
   ]
  }
 ],
 "metadata": {
  "kernelspec": {
   "display_name": "Python 3",
   "language": "python",
   "name": "python3"
  },
  "language_info": {
   "codemirror_mode": {
    "name": "ipython",
    "version": 3
   },
   "file_extension": ".py",
   "mimetype": "text/x-python",
   "name": "python",
   "nbconvert_exporter": "python",
   "pygments_lexer": "ipython3",
   "version": "3.8.2"
  }
 },
 "nbformat": 4,
 "nbformat_minor": 4
}