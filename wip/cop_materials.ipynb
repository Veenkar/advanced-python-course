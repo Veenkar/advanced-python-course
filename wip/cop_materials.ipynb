{
 "cells": [
  {
   "cell_type": "markdown",
   "metadata": {},
   "source": [
    "### Iter protocol"
   ]
  },
  {
   "cell_type": "markdown",
   "metadata": {},
   "source": [
    "#### For loop under the hood"
   ]
  },
  {
   "cell_type": "code",
   "execution_count": 5,
   "metadata": {},
   "outputs": [
    {
     "data": {
      "text/html": [
       "<iframe src='https://gfycat.com/ifr/YearlyWelcomeBlowfish' frameborder='0' scrolling='no' allowfullscreen width='640' height='1185'></iframe>\n"
      ],
      "text/plain": [
       "<IPython.core.display.HTML object>"
      ]
     },
     "metadata": {},
     "output_type": "display_data"
    }
   ],
   "source": [
    "%%HTML\n",
    "<iframe src='https://gfycat.com/ifr/YearlyWelcomeBlowfish' frameborder='0' scrolling='no' allowfullscreen width='640' height='1185'></iframe>"
   ]
  },
  {
   "cell_type": "code",
   "execution_count": 1,
   "metadata": {},
   "outputs": [
    {
     "name": "stdout",
     "output_type": "stream",
     "text": [
      "1\n",
      "2\n",
      "3\n"
     ]
    }
   ],
   "source": [
    "for value in [1, 2, 3]:\n",
    "    print(value)"
   ]
  },
  {
   "cell_type": "code",
   "execution_count": 2,
   "metadata": {},
   "outputs": [],
   "source": [
    "class Counter:\n",
    "    pass"
   ]
  },
  {
   "cell_type": "code",
   "execution_count": 3,
   "metadata": {},
   "outputs": [
    {
     "ename": "TypeError",
     "evalue": "'Counter' object is not iterable",
     "output_type": "error",
     "traceback": [
      "\u001b[0;31m---------------------------------------------------------------------------\u001b[0m",
      "\u001b[0;31mTypeError\u001b[0m                                 Traceback (most recent call last)",
      "\u001b[0;32m<ipython-input-3-195ccddbe93a>\u001b[0m in \u001b[0;36m<module>\u001b[0;34m\u001b[0m\n\u001b[0;32m----> 1\u001b[0;31m \u001b[0;32mfor\u001b[0m \u001b[0mvalue\u001b[0m \u001b[0;32min\u001b[0m \u001b[0mCounter\u001b[0m\u001b[0;34m(\u001b[0m\u001b[0;34m)\u001b[0m\u001b[0;34m:\u001b[0m\u001b[0;34m\u001b[0m\u001b[0;34m\u001b[0m\u001b[0m\n\u001b[0m\u001b[1;32m      2\u001b[0m     \u001b[0mprint\u001b[0m\u001b[0;34m(\u001b[0m\u001b[0mvalue\u001b[0m\u001b[0;34m)\u001b[0m\u001b[0;34m\u001b[0m\u001b[0;34m\u001b[0m\u001b[0m\n",
      "\u001b[0;31mTypeError\u001b[0m: 'Counter' object is not iterable"
     ]
    }
   ],
   "source": [
    "for value in Counter():\n",
    "    print(value)"
   ]
  },
  {
   "cell_type": "code",
   "execution_count": null,
   "metadata": {},
   "outputs": [],
   "source": [
    "it = iter([1, 2, 3])\n",
    "try:\n",
    "    while True:\n",
    "        value = next(it)\n",
    "        print(value)\n",
    "except StopIteration:\n",
    "    pass"
   ]
  },
  {
   "cell_type": "markdown",
   "metadata": {},
   "source": [
    "How to create iterable object? Implement `__iter__` that returns object implementing `__next__`"
   ]
  },
  {
   "cell_type": "code",
   "execution_count": 28,
   "metadata": {},
   "outputs": [
    {
     "name": "stdout",
     "output_type": "stream",
     "text": [
      "3\n",
      "4\n",
      "5\n",
      "6\n",
      "7\n",
      "8\n"
     ]
    }
   ],
   "source": [
    "class Counter:\n",
    "    def __init__(self, low, high):\n",
    "        self.current = low\n",
    "        self.high = high\n",
    "\n",
    "    def __iter__(self):\n",
    "        return self\n",
    "\n",
    "    def __next__(self):\n",
    "        if self.current > self.high:\n",
    "            raise StopIteration\n",
    "        else:\n",
    "            self.current += 1\n",
    "            return self.current - 1\n",
    "\n",
    "\n",
    "for i in Counter(3, 8):\n",
    "    print(i)"
   ]
  },
  {
   "cell_type": "markdown",
   "metadata": {},
   "source": [
    "You don't have to return self in `__iter__`"
   ]
  },
  {
   "cell_type": "code",
   "execution_count": 7,
   "metadata": {},
   "outputs": [
    {
     "name": "stdout",
     "output_type": "stream",
     "text": [
      "1\n",
      "2\n",
      "3\n"
     ]
    }
   ],
   "source": [
    "class Counter:\n",
    "    def __iter__(self):\n",
    "        return iter([1, 2, 3])\n",
    "\n",
    "for value in Counter():\n",
    "    print(value)"
   ]
  },
  {
   "cell_type": "markdown",
   "metadata": {},
   "source": [
    "Why is this information useful? Infinite or very large sequences. Problem: find first fibonaci sequence number which has a sum of digits greater than 100"
   ]
  },
  {
   "cell_type": "code",
   "execution_count": 11,
   "metadata": {},
   "outputs": [
    {
     "data": {
      "text/plain": [
       "[0, 1, 1, 2, 3, 5, 8, 13, 21, 34]"
      ]
     },
     "execution_count": 11,
     "metadata": {},
     "output_type": "execute_result"
    }
   ],
   "source": [
    "from itertools import islice\n",
    "\n",
    "\n",
    "class FibonacciIterator:\n",
    "    def __iter__(self):\n",
    "        self.a = 0\n",
    "        self.b = 1\n",
    "        return self\n",
    "\n",
    "    def __next__(self):\n",
    "        a, b = self.a, self.b\n",
    "        self.a = b\n",
    "        self.b = a + b\n",
    "        return a\n",
    "\n",
    "\n",
    "list(islice(FibonacciIterator(), 10))"
   ]
  },
  {
   "cell_type": "code",
   "execution_count": 15,
   "metadata": {},
   "outputs": [
    {
     "data": {
      "text/plain": [
       "218922995834555169026"
      ]
     },
     "execution_count": 15,
     "metadata": {},
     "output_type": "execute_result"
    }
   ],
   "source": [
    "from typing import Iterable, Callable, Any\n",
    "\n",
    "sum_digits = lambda n: sum(map(int, str(n)))\n",
    "\n",
    "def find_first(iterable: Iterable, predicate: Callable[[Any], bool]):\n",
    "    for x in iterable:\n",
    "        if predicate(x):\n",
    "            return x\n",
    "\n",
    "find_first(FibonacciIterator(), lambda x: sum_digits(x) > 100)\n",
    "# next(x for x in FibonaciIterator() if sum_digits(x) > 100)"
   ]
  },
  {
   "cell_type": "markdown",
   "metadata": {},
   "source": [
    "### Generators"
   ]
  },
  {
   "cell_type": "markdown",
   "metadata": {},
   "source": [
    "Generator is just like a container, but values are generated on the fly as you iterate."
   ]
  },
  {
   "cell_type": "code",
   "execution_count": 16,
   "metadata": {},
   "outputs": [
    {
     "name": "stdout",
     "output_type": "stream",
     "text": [
      "48\n",
      "80000056\n"
     ]
    }
   ],
   "source": [
    "generator = range(10000000)\n",
    "big_list = list(generator)\n",
    "\n",
    "from sys import getsizeof\n",
    "\n",
    "print(getsizeof(generator))\n",
    "print(getsizeof(big_list))"
   ]
  },
  {
   "cell_type": "markdown",
   "metadata": {},
   "source": [
    "Generator comprehensions:"
   ]
  },
  {
   "cell_type": "code",
   "execution_count": 17,
   "metadata": {},
   "outputs": [
    {
     "name": "stdout",
     "output_type": "stream",
     "text": [
      "292 ms ± 10 ms per loop (mean ± std. dev. of 7 runs, 1 loop each)\n"
     ]
    }
   ],
   "source": [
    "%%timeit\n",
    "power_2 = [i**2 for i in range(10**6)]"
   ]
  },
  {
   "cell_type": "code",
   "execution_count": 19,
   "metadata": {},
   "outputs": [
    {
     "name": "stdout",
     "output_type": "stream",
     "text": [
      "533 ns ± 13.6 ns per loop (mean ± std. dev. of 7 runs, 1000000 loops each)\n"
     ]
    }
   ],
   "source": [
    "%%timeit\n",
    "power_2_gen = (i**2 for i in range(10**6))"
   ]
  },
  {
   "cell_type": "code",
   "execution_count": 20,
   "metadata": {},
   "outputs": [
    {
     "name": "stdout",
     "output_type": "stream",
     "text": [
      "Requirement already satisfied: memory_profiler in /home/gjklv8/.local/lib/python3.8/site-packages (0.55.0)\r\n",
      "Requirement already satisfied: psutil in /usr/local/lib/python3.8/dist-packages (from memory_profiler) (5.6.3)\r\n"
     ]
    }
   ],
   "source": [
    "! pip3.8 install memory_profiler --user"
   ]
  },
  {
   "cell_type": "code",
   "execution_count": 21,
   "metadata": {},
   "outputs": [],
   "source": [
    "%load_ext memory_profiler"
   ]
  },
  {
   "cell_type": "code",
   "execution_count": 22,
   "metadata": {},
   "outputs": [
    {
     "name": "stdout",
     "output_type": "stream",
     "text": [
      "peak memory: 488.84 MiB, increment: 21.51 MiB\n"
     ]
    }
   ],
   "source": [
    "%memit sum([i**2 for i in range(10**6)])"
   ]
  },
  {
   "cell_type": "code",
   "execution_count": 23,
   "metadata": {},
   "outputs": [
    {
     "name": "stdout",
     "output_type": "stream",
     "text": [
      "peak memory: 467.58 MiB, increment: 0.00 MiB\n"
     ]
    }
   ],
   "source": [
    "%memit sum(i**2 for i in range(10**6))"
   ]
  },
  {
   "cell_type": "code",
   "execution_count": 26,
   "metadata": {},
   "outputs": [
    {
     "name": "stdout",
     "output_type": "stream",
     "text": [
      "361 ns ± 31.4 ns per loop (mean ± std. dev. of 7 runs, 1000000 loops each)\n"
     ]
    }
   ],
   "source": [
    "%%timeit\n",
    "for i in range(10**6):\n",
    "    if i == 2:\n",
    "        break"
   ]
  },
  {
   "cell_type": "code",
   "execution_count": 27,
   "metadata": {},
   "outputs": [
    {
     "name": "stdout",
     "output_type": "stream",
     "text": [
      "30 ms ± 453 µs per loop (mean ± std. dev. of 7 runs, 10 loops each)\n"
     ]
    }
   ],
   "source": [
    "%%timeit\n",
    "for i in list(range(10**6)):\n",
    "    if i == 2:\n",
    "        break"
   ]
  },
  {
   "cell_type": "markdown",
   "metadata": {},
   "source": [
    "### Yield"
   ]
  },
  {
   "cell_type": "code",
   "execution_count": 28,
   "metadata": {},
   "outputs": [],
   "source": [
    "def some_generator():\n",
    "    print(\"Starting\")\n",
    "    yield 1\n",
    "    print(\"Let's come back to where we left off\")\n",
    "    yield 2\n",
    "    print(\"Nope. No more yields\")"
   ]
  },
  {
   "cell_type": "code",
   "execution_count": 29,
   "metadata": {},
   "outputs": [],
   "source": [
    "gen = some_generator()"
   ]
  },
  {
   "cell_type": "code",
   "execution_count": 30,
   "metadata": {},
   "outputs": [
    {
     "name": "stdout",
     "output_type": "stream",
     "text": [
      "Starting\n"
     ]
    },
    {
     "data": {
      "text/plain": [
       "1"
      ]
     },
     "execution_count": 30,
     "metadata": {},
     "output_type": "execute_result"
    }
   ],
   "source": [
    "next(gen)"
   ]
  },
  {
   "cell_type": "code",
   "execution_count": 31,
   "metadata": {},
   "outputs": [
    {
     "name": "stdout",
     "output_type": "stream",
     "text": [
      "Let's come back to where we left off\n"
     ]
    },
    {
     "data": {
      "text/plain": [
       "2"
      ]
     },
     "execution_count": 31,
     "metadata": {},
     "output_type": "execute_result"
    }
   ],
   "source": [
    "next(gen)"
   ]
  },
  {
   "cell_type": "code",
   "execution_count": 32,
   "metadata": {},
   "outputs": [
    {
     "name": "stdout",
     "output_type": "stream",
     "text": [
      "Nope. No more yields\n"
     ]
    },
    {
     "ename": "StopIteration",
     "evalue": "",
     "output_type": "error",
     "traceback": [
      "\u001b[0;31m---------------------------------------------------------------------------\u001b[0m",
      "\u001b[0;31mStopIteration\u001b[0m                             Traceback (most recent call last)",
      "\u001b[0;32m<ipython-input-32-6e72e47198db>\u001b[0m in \u001b[0;36m<module>\u001b[0;34m\u001b[0m\n\u001b[0;32m----> 1\u001b[0;31m \u001b[0mnext\u001b[0m\u001b[0;34m(\u001b[0m\u001b[0mgen\u001b[0m\u001b[0;34m)\u001b[0m\u001b[0;34m\u001b[0m\u001b[0;34m\u001b[0m\u001b[0m\n\u001b[0m",
      "\u001b[0;31mStopIteration\u001b[0m: "
     ]
    }
   ],
   "source": [
    "next(gen)"
   ]
  },
  {
   "cell_type": "code",
   "execution_count": 33,
   "metadata": {},
   "outputs": [
    {
     "name": "stdout",
     "output_type": "stream",
     "text": [
      "Starting\n",
      "Let's come back to where we left off\n",
      "Nope. No more yields\n"
     ]
    },
    {
     "data": {
      "text/plain": [
       "[1, 2]"
      ]
     },
     "execution_count": 33,
     "metadata": {},
     "output_type": "execute_result"
    }
   ],
   "source": [
    "list(some_generator())"
   ]
  },
  {
   "cell_type": "code",
   "execution_count": 34,
   "metadata": {},
   "outputs": [],
   "source": [
    "gen = some_generator()"
   ]
  },
  {
   "cell_type": "code",
   "execution_count": 35,
   "metadata": {},
   "outputs": [
    {
     "data": {
      "text/plain": [
       "'GEN_CREATED'"
      ]
     },
     "execution_count": 35,
     "metadata": {},
     "output_type": "execute_result"
    }
   ],
   "source": [
    "import inspect\n",
    "inspect.getgeneratorstate(gen)"
   ]
  },
  {
   "cell_type": "code",
   "execution_count": 36,
   "metadata": {},
   "outputs": [
    {
     "name": "stdout",
     "output_type": "stream",
     "text": [
      "Starting\n"
     ]
    },
    {
     "data": {
      "text/plain": [
       "'GEN_SUSPENDED'"
      ]
     },
     "execution_count": 36,
     "metadata": {},
     "output_type": "execute_result"
    }
   ],
   "source": [
    "next(gen)\n",
    "inspect.getgeneratorstate(gen)"
   ]
  },
  {
   "cell_type": "code",
   "execution_count": 37,
   "metadata": {},
   "outputs": [
    {
     "name": "stdout",
     "output_type": "stream",
     "text": [
      "Let's come back to where we left off\n",
      "Nope. No more yields\n"
     ]
    },
    {
     "data": {
      "text/plain": [
       "'GEN_CLOSED'"
      ]
     },
     "execution_count": 37,
     "metadata": {},
     "output_type": "execute_result"
    }
   ],
   "source": [
    "list(gen)\n",
    "inspect.getgeneratorstate(gen)"
   ]
  },
  {
   "cell_type": "code",
   "execution_count": 38,
   "metadata": {},
   "outputs": [
    {
     "name": "stdout",
     "output_type": "stream",
     "text": [
      "0\n",
      "1\n",
      "2\n",
      "3\n"
     ]
    }
   ],
   "source": [
    "def primitive_range(start: int, stop: int, step: int = 1):\n",
    "    current = start\n",
    "    while current < stop:\n",
    "        yield current\n",
    "        current += step\n",
    "\n",
    "\n",
    "for i in primitive_range(0, 4):\n",
    "    print(i)"
   ]
  },
  {
   "cell_type": "code",
   "execution_count": 40,
   "metadata": {},
   "outputs": [
    {
     "data": {
      "text/plain": [
       "{'start': 0, 'stop': 10, 'step': 1}"
      ]
     },
     "execution_count": 40,
     "metadata": {},
     "output_type": "execute_result"
    }
   ],
   "source": [
    "import inspect\n",
    "g = primitive_range(0,10)\n",
    "inspect.getgeneratorlocals(g)"
   ]
  },
  {
   "cell_type": "code",
   "execution_count": 41,
   "metadata": {},
   "outputs": [
    {
     "data": {
      "text/plain": [
       "0"
      ]
     },
     "execution_count": 41,
     "metadata": {},
     "output_type": "execute_result"
    }
   ],
   "source": [
    "next(g)"
   ]
  },
  {
   "cell_type": "code",
   "execution_count": 43,
   "metadata": {},
   "outputs": [
    {
     "data": {
      "text/plain": [
       "{'start': 0, 'stop': 10, 'step': 1, 'current': 0}"
      ]
     },
     "execution_count": 43,
     "metadata": {},
     "output_type": "execute_result"
    }
   ],
   "source": [
    "inspect.getgeneratorlocals(g)"
   ]
  },
  {
   "cell_type": "code",
   "execution_count": 45,
   "metadata": {},
   "outputs": [
    {
     "data": {
      "text/plain": [
       "1"
      ]
     },
     "execution_count": 45,
     "metadata": {},
     "output_type": "execute_result"
    }
   ],
   "source": [
    "next(g)"
   ]
  },
  {
   "cell_type": "code",
   "execution_count": 47,
   "metadata": {},
   "outputs": [
    {
     "data": {
      "text/plain": [
       "{'start': 0, 'stop': 10, 'step': 1, 'current': 1}"
      ]
     },
     "execution_count": 47,
     "metadata": {},
     "output_type": "execute_result"
    }
   ],
   "source": [
    "inspect.getgeneratorlocals(g)"
   ]
  },
  {
   "cell_type": "markdown",
   "metadata": {},
   "source": [
    "How does python know where he stopped in generator - instruction pointer"
   ]
  },
  {
   "cell_type": "code",
   "execution_count": 49,
   "metadata": {},
   "outputs": [],
   "source": [
    "def simple_gen():\n",
    "    x = 10\n",
    "    yield x\n",
    "    y = \"abc\"\n",
    "    yield y"
   ]
  },
  {
   "cell_type": "code",
   "execution_count": 50,
   "metadata": {},
   "outputs": [
    {
     "data": {
      "text/plain": [
       "-1"
      ]
     },
     "execution_count": 50,
     "metadata": {},
     "output_type": "execute_result"
    }
   ],
   "source": [
    "g = simple_gen()\n",
    "g.gi_frame.f_lasti"
   ]
  },
  {
   "cell_type": "code",
   "execution_count": 51,
   "metadata": {},
   "outputs": [
    {
     "data": {
      "text/plain": [
       "6"
      ]
     },
     "execution_count": 51,
     "metadata": {},
     "output_type": "execute_result"
    }
   ],
   "source": [
    "next(g)\n",
    "g.gi_frame.f_lasti"
   ]
  },
  {
   "cell_type": "code",
   "execution_count": 52,
   "metadata": {},
   "outputs": [
    {
     "name": "stdout",
     "output_type": "stream",
     "text": [
      "  2           0 LOAD_CONST               1 (10)\n",
      "              2 STORE_FAST               0 (x)\n",
      "\n",
      "  3           4 LOAD_FAST                0 (x)\n",
      "    -->       6 YIELD_VALUE\n",
      "              8 POP_TOP\n",
      "\n",
      "  4          10 LOAD_CONST               2 ('abc')\n",
      "             12 STORE_FAST               1 (y)\n",
      "\n",
      "  5          14 LOAD_FAST                1 (y)\n",
      "             16 YIELD_VALUE\n",
      "             18 POP_TOP\n",
      "             20 LOAD_CONST               0 (None)\n",
      "             22 RETURN_VALUE\n"
     ]
    }
   ],
   "source": [
    "import dis\n",
    "dis.disco(g.gi_code, lasti=g.gi_frame.f_lasti)"
   ]
  },
  {
   "cell_type": "code",
   "execution_count": 53,
   "metadata": {},
   "outputs": [
    {
     "name": "stdout",
     "output_type": "stream",
     "text": [
      "<_ast.Module object at 0x7fd134cdcd00>\n"
     ]
    }
   ],
   "source": [
    "import ctypes\n",
    "import gc\n",
    "gc.disable()\n",
    "\n",
    "class A:\n",
    "    pass\n",
    "\n",
    "\n",
    "var_address = 0\n",
    "\n",
    "\n",
    "def f():\n",
    "    local_var = A()\n",
    "    global var_address\n",
    "    var_address = id(local_var)\n",
    "\n",
    "\n",
    "f()\n",
    "local_f_var = ctypes.cast(var_address, ctypes.py_object).value\n",
    "print(f\"{local_f_var}\")\n"
   ]
  },
  {
   "cell_type": "code",
   "execution_count": 27,
   "metadata": {},
   "outputs": [
    {
     "name": "stdout",
     "output_type": "stream",
     "text": [
      "<list_iterator object at 0x7f708c260640>\n"
     ]
    }
   ],
   "source": [
    "import ctypes\n",
    "\n",
    "\n",
    "class A:\n",
    "    pass\n",
    "\n",
    "\n",
    "var_address = 0\n",
    "\n",
    "\n",
    "def f():\n",
    "    local_var = A()\n",
    "    global var_address\n",
    "    var_address = id(local_var)\n",
    "\n",
    "\n",
    "f()\n",
    "import gc\n",
    "\n",
    "gc.collect()\n",
    "local_f_var = ctypes.cast(var_address, ctypes.py_object).value\n",
    "print(f\"{local_f_var}\")"
   ]
  },
  {
   "cell_type": "code",
   "execution_count": 54,
   "metadata": {},
   "outputs": [
    {
     "name": "stdout",
     "output_type": "stream",
     "text": [
      "Name:              some_generator\n",
      "Filename:          <ipython-input-28-1c1f0d91e5da>\n",
      "Argument count:    0\n",
      "Positional-only arguments: 0\n",
      "Kw-only arguments: 0\n",
      "Number of locals:  0\n",
      "Stack size:        2\n",
      "Flags:             OPTIMIZED, NEWLOCALS, GENERATOR, NOFREE, 0x2000\n",
      "Constants:\n",
      "   0: None\n",
      "   1: 'Starting'\n",
      "   2: 1\n",
      "   3: \"Let's come back to where we left off\"\n",
      "   4: 2\n",
      "   5: 'Nope. No more yields'\n",
      "Names:\n",
      "   0: print\n"
     ]
    }
   ],
   "source": [
    "import dis\n",
    "print(dis.code_info(some_generator))"
   ]
  },
  {
   "cell_type": "code",
   "execution_count": 55,
   "metadata": {},
   "outputs": [],
   "source": [
    "def infinite_power_2_gen():\n",
    "    current = 2\n",
    "    while True:\n",
    "        yield current\n",
    "        current *= 2"
   ]
  },
  {
   "cell_type": "code",
   "execution_count": 56,
   "metadata": {},
   "outputs": [
    {
     "ename": "TypeError",
     "evalue": "'generator' object is not subscriptable",
     "output_type": "error",
     "traceback": [
      "\u001b[0;31m---------------------------------------------------------------------------\u001b[0m",
      "\u001b[0;31mTypeError\u001b[0m                                 Traceback (most recent call last)",
      "\u001b[0;32m<ipython-input-56-20b1b822cb19>\u001b[0m in \u001b[0;36m<module>\u001b[0;34m\u001b[0m\n\u001b[1;32m      1\u001b[0m \u001b[0mpowers_of_2\u001b[0m \u001b[0;34m=\u001b[0m \u001b[0minfinite_power_2_gen\u001b[0m\u001b[0;34m(\u001b[0m\u001b[0;34m)\u001b[0m\u001b[0;34m\u001b[0m\u001b[0;34m\u001b[0m\u001b[0m\n\u001b[0;32m----> 2\u001b[0;31m \u001b[0mfirst_4\u001b[0m \u001b[0;34m=\u001b[0m \u001b[0mpowers_of_2\u001b[0m\u001b[0;34m[\u001b[0m\u001b[0;34m:\u001b[0m\u001b[0;36m4\u001b[0m\u001b[0;34m]\u001b[0m\u001b[0;34m\u001b[0m\u001b[0;34m\u001b[0m\u001b[0m\n\u001b[0m",
      "\u001b[0;31mTypeError\u001b[0m: 'generator' object is not subscriptable"
     ]
    }
   ],
   "source": [
    "powers_of_2 = infinite_power_2_gen()\n",
    "first_4 = powers_of_2[:4]"
   ]
  },
  {
   "cell_type": "code",
   "execution_count": 57,
   "metadata": {},
   "outputs": [
    {
     "data": {
      "text/plain": [
       "[2, 4, 8, 16, 32]"
      ]
     },
     "execution_count": 57,
     "metadata": {},
     "output_type": "execute_result"
    }
   ],
   "source": [
    "first_5_elements = []\n",
    "for i in range(5):\n",
    "    first_5_elements.append(next(powers_of_2))\n",
    "first_5_elements"
   ]
  },
  {
   "cell_type": "code",
   "execution_count": 56,
   "metadata": {},
   "outputs": [
    {
     "data": {
      "text/plain": [
       "[64, 128, 256, 512, 1024]"
      ]
     },
     "execution_count": 56,
     "metadata": {},
     "output_type": "execute_result"
    }
   ],
   "source": [
    "first_5_elements = [pair[0] for pair in zip(powers_of_2, range(5))]\n",
    "first_5_elements"
   ]
  },
  {
   "cell_type": "code",
   "execution_count": 59,
   "metadata": {},
   "outputs": [
    {
     "data": {
      "text/plain": [
       "<itertools.islice at 0x7fd10fe13310>"
      ]
     },
     "execution_count": 59,
     "metadata": {},
     "output_type": "execute_result"
    }
   ],
   "source": [
    "from itertools import islice\n",
    "first_4_powers_gen = islice(infinite_power_2_gen(), 4)\n",
    "first_4_powers_gen"
   ]
  },
  {
   "cell_type": "code",
   "execution_count": 61,
   "metadata": {},
   "outputs": [
    {
     "data": {
      "text/plain": [
       "[]"
      ]
     },
     "execution_count": 61,
     "metadata": {},
     "output_type": "execute_result"
    }
   ],
   "source": [
    "list(first_4_powers_gen)"
   ]
  },
  {
   "cell_type": "code",
   "execution_count": 66,
   "metadata": {},
   "outputs": [],
   "source": [
    "def fib_generator():\n",
    "    a, b = 0, 1\n",
    "    while True:\n",
    "        yield a\n",
    "        a, b = b, a + b"
   ]
  },
  {
   "cell_type": "code",
   "execution_count": 67,
   "metadata": {},
   "outputs": [
    {
     "data": {
      "text/plain": [
       "[0, 1, 1, 2, 3, 5, 8, 13, 21, 34]"
      ]
     },
     "execution_count": 67,
     "metadata": {},
     "output_type": "execute_result"
    }
   ],
   "source": [
    "list(islice(fib_generator(), 10))"
   ]
  },
  {
   "cell_type": "markdown",
   "metadata": {},
   "source": [
    "### Real use case - iterative xml parsing"
   ]
  },
  {
   "cell_type": "code",
   "execution_count": 64,
   "metadata": {},
   "outputs": [],
   "source": [
    "from pathlib import Path\n",
    "from typing import Generator\n",
    "import xml.etree.ElementTree as ET\n",
    "\n",
    "\n",
    "def iter_tags_from_xml_file(path: Path) -> Generator[ET.Element, None, None]:\n",
    "    \"\"\"\n",
    "    Parses xml file incrementally to not bloat the ram on big xml files\n",
    "    :param path: path to xml_file\n",
    "    :return: generator iterating over xml tags\n",
    "    \"\"\"\n",
    "    xml_iterator = iter(ET.iterparse(str(path), events=(\"start\", \"end\")))\n",
    "    _, root = next(xml_iterator)\n",
    "    for event, element in xml_iterator:\n",
    "        if event == \"end\":\n",
    "            yield element\n",
    "        # without clearing the root element the whole tree is still stored in ram, but created incrementally\n",
    "        root.clear()"
   ]
  },
  {
   "cell_type": "code",
   "execution_count": 65,
   "metadata": {},
   "outputs": [
    {
     "name": "stdout",
     "output_type": "stream",
     "text": [
      "20G\t/home/gjklv8/faster_xml.xml\r\n"
     ]
    }
   ],
   "source": [
    "! du -hs ~/faster_xml.xml"
   ]
  },
  {
   "cell_type": "code",
   "execution_count": 68,
   "metadata": {},
   "outputs": [],
   "source": [
    "tags = iter_tags_from_xml_file(Path(\"/home/gjklv8/faster_xml.xml\"))"
   ]
  },
  {
   "cell_type": "code",
   "execution_count": 70,
   "metadata": {},
   "outputs": [
    {
     "name": "stdout",
     "output_type": "stream",
     "text": [
      "peak memory: 468.84 MiB, increment: 0.00 MiB\n"
     ]
    }
   ],
   "source": [
    "%memit keybox_tags = (entry for entry in tags if entry.tag == \"Keybox\")"
   ]
  },
  {
   "cell_type": "code",
   "execution_count": 75,
   "metadata": {},
   "outputs": [
    {
     "name": "stdout",
     "output_type": "stream",
     "text": [
      "peak memory: 468.92 MiB, increment: 0.00 MiB\n"
     ]
    }
   ],
   "source": [
    "%memit keybox_elements = sum(1 for x in keybox_tags)"
   ]
  },
  {
   "cell_type": "markdown",
   "metadata": {},
   "source": [
    "### Data pipelines"
   ]
  },
  {
   "cell_type": "code",
   "execution_count": 77,
   "metadata": {},
   "outputs": [
    {
     "name": "stdout",
     "output_type": "stream",
     "text": [
      "Requirement already satisfied: names in /home/gjklv8/.local/lib/python3.8/site-packages (0.3.0)\r\n"
     ]
    }
   ],
   "source": [
    "! pip3.8 install names --user"
   ]
  },
  {
   "cell_type": "code",
   "execution_count": 78,
   "metadata": {},
   "outputs": [],
   "source": [
    "import names\n",
    "import random\n",
    "\n",
    "with open(\"student_grades.txt\", \"w\") as file:\n",
    "    for _ in range(25):\n",
    "        print(f\"{names.get_first_name()} {','.join(map(str,random.choices(range(2,6),k=15)))}\", file=file)\n"
   ]
  },
  {
   "cell_type": "code",
   "execution_count": 79,
   "metadata": {},
   "outputs": [
    {
     "name": "stdout",
     "output_type": "stream",
     "text": [
      "William 3,2,3,5,3,2,5,2,5,3,5,3,3,4,5\r\n",
      "Patricia 2,5,5,5,4,4,2,4,3,2,3,5,5,2,3\r\n",
      "Gale 2,3,5,4,5,2,3,3,5,3,2,3,5,2,2\r\n",
      "Collin 2,2,2,4,2,2,5,5,2,5,4,4,3,5,2\r\n",
      "Frank 3,4,2,3,4,2,3,2,4,4,3,4,4,2,2\r\n",
      "Donovan 2,3,3,5,5,4,3,3,3,2,2,2,5,5,2\r\n",
      "Donna 5,4,4,2,4,5,4,5,3,4,4,4,4,3,2\r\n",
      "Melvin 4,4,3,3,5,3,5,4,3,5,2,2,5,5,4\r\n",
      "Richard 2,5,5,2,4,4,3,4,3,5,5,2,3,2,3\r\n",
      "Erin 3,5,3,4,4,4,3,5,4,2,3,3,2,5,2\r\n",
      "Christopher 3,4,5,5,4,5,4,5,2,4,2,5,4,4,3\r\n",
      "Ralph 5,5,3,5,4,5,2,2,4,3,3,2,4,3,4\r\n",
      "Tom 2,4,2,5,3,3,5,3,2,4,5,2,3,5,4\r\n",
      "Brian 4,3,2,5,5,3,5,2,3,3,4,4,4,3,2\r\n",
      "Tiffany 2,4,2,2,3,3,3,3,2,2,2,2,4,3,3\r\n",
      "Wesley 4,2,5,3,2,2,4,5,5,3,2,5,5,4,2\r\n",
      "Andrew 2,2,2,2,3,2,3,2,2,5,2,4,4,3,3\r\n",
      "Richard 2,4,5,3,4,2,2,3,3,5,4,5,2,5,5\r\n",
      "Preston 2,2,2,3,3,5,4,2,5,5,3,3,5,4,5\r\n",
      "Eileen 2,3,3,4,4,5,4,5,4,4,5,2,3,2,3\r\n",
      "Peggy 2,2,3,3,4,2,2,4,3,2,3,4,3,4,2\r\n",
      "Sarah 2,4,2,4,5,5,4,2,5,4,2,3,4,5,4\r\n",
      "Robert 5,5,2,3,2,2,5,5,5,3,3,2,5,4,3\r\n",
      "Shannon 5,2,5,2,5,4,3,4,4,5,2,3,5,4,5\r\n",
      "Ruben 4,5,2,5,2,4,2,3,5,2,2,4,2,2,3\r\n"
     ]
    }
   ],
   "source": [
    "!cat student_grades.txt"
   ]
  },
  {
   "cell_type": "markdown",
   "metadata": {},
   "source": [
    "Find first student that should be expelled\n",
    "This won't scale:"
   ]
  },
  {
   "cell_type": "code",
   "execution_count": 81,
   "metadata": {},
   "outputs": [
    {
     "data": {
      "text/plain": [
       "[('William', 3.533333333333333),\n",
       " ('Patricia', 3.6),\n",
       " ('Gale', 3.2666666666666666),\n",
       " ('Collin', 3.2666666666666666),\n",
       " ('Frank', 3.066666666666667),\n",
       " ('Donovan', 3.2666666666666666),\n",
       " ('Donna', 3.8),\n",
       " ('Melvin', 3.8),\n",
       " ('Richard', 3.466666666666667),\n",
       " ('Erin', 3.466666666666667),\n",
       " ('Christopher', 3.933333333333333),\n",
       " ('Ralph', 3.6),\n",
       " ('Tom', 3.466666666666667),\n",
       " ('Brian', 3.466666666666667),\n",
       " ('Tiffany', 2.6666666666666665),\n",
       " ('Wesley', 3.533333333333333),\n",
       " ('Andrew', 2.7333333333333334),\n",
       " ('Richard', 3.6),\n",
       " ('Preston', 3.533333333333333),\n",
       " ('Eileen', 3.533333333333333),\n",
       " ('Peggy', 2.8666666666666667),\n",
       " ('Sarah', 3.6666666666666665),\n",
       " ('Robert', 3.6),\n",
       " ('Shannon', 3.8666666666666667),\n",
       " ('Ruben', 3.1333333333333333)]"
      ]
     },
     "execution_count": 81,
     "metadata": {},
     "output_type": "execute_result"
    }
   ],
   "source": [
    "from pprint import pprint\n",
    "from statistics import mean\n",
    "\n",
    "\n",
    "def get_lines(filename: str):\n",
    "    lines = []\n",
    "    with open(filename) as file:\n",
    "        for line in file:\n",
    "            lines.append(line)\n",
    "    return lines\n",
    "\n",
    "\n",
    "def parse_lines(lines: list):\n",
    "    students_with_grades = []\n",
    "    for line in lines:\n",
    "        student, grades_str = line.split()\n",
    "        grades = [int(grade) for grade in grades_str.split(\",\")]\n",
    "        students_with_grades.append((student, grades))\n",
    "    return students_with_grades\n",
    "\n",
    "\n",
    "def get_students_with_means(students: list):\n",
    "    student_with_means = []\n",
    "    for student, grades in students:\n",
    "        student_with_means.append((student, mean(grades)))\n",
    "    return student_with_means\n",
    "\n",
    "\n",
    "lines = get_lines(\"student_grades.txt\")\n",
    "students_with_grades = parse_lines(lines)\n",
    "student_with_means = get_students_with_means(students_with_grades)\n",
    "student_with_means"
   ]
  },
  {
   "cell_type": "code",
   "execution_count": 82,
   "metadata": {},
   "outputs": [
    {
     "data": {
      "text/plain": [
       "('Gale', 3.2666666666666666)"
      ]
     },
     "execution_count": 82,
     "metadata": {},
     "output_type": "execute_result"
    }
   ],
   "source": [
    "next(((student, mean) for student, mean in student_with_means if mean < 3.5))"
   ]
  },
  {
   "cell_type": "markdown",
   "metadata": {},
   "source": [
    "But this will scale:"
   ]
  },
  {
   "cell_type": "code",
   "execution_count": 84,
   "metadata": {},
   "outputs": [],
   "source": [
    "from pprint import pprint\n",
    "from statistics import mean\n",
    "\n",
    "def get_lines(filename: str):\n",
    "    lines = []\n",
    "    with open(filename) as file:\n",
    "        for line in file:\n",
    "            lines.append(line)\n",
    "    return lines\n",
    "\n",
    "\n",
    "def get_lines_gen(filename: str):\n",
    "    with open(filename) as file:\n",
    "        for line in file:\n",
    "            yield line\n",
    "\n",
    "\n",
    "def parse_lines_gen(lines):\n",
    "    for line in lines:\n",
    "        student, grades_str = line.split()\n",
    "        grades = [int(grade) for grade in grades_str.split(\",\")]\n",
    "        yield (student, grades)\n",
    "        \n",
    "def parse_lines(lines):\n",
    "    students_with_grades = []\n",
    "    for line in lines:\n",
    "        student, grades_str = line.split()\n",
    "        grades = [int(grade) for grade in grades_str.split(\",\")]\n",
    "        students_with_grades.append((student, grades))\n",
    "    return students_with_grades\n",
    "\n",
    "\n",
    "def get_students_with_means(students):\n",
    "    student_with_means = []\n",
    "    for student, grades in students:\n",
    "        student_with_means.append((student, mean(grades)))\n",
    "    return student_with_means\n",
    "\n",
    "def get_students_with_means_gen(students):\n",
    "    for student, grades in students:\n",
    "        yield (student, mean(grades))\n"
   ]
  },
  {
   "cell_type": "code",
   "execution_count": 85,
   "metadata": {},
   "outputs": [],
   "source": [
    "lines = get_lines_gen(\"student_grades.txt\")\n",
    "students_with_grades = parse_lines_gen(lines)\n",
    "student_with_means = get_students_with_means_gen(students_with_grades)"
   ]
  },
  {
   "cell_type": "code",
   "execution_count": 46,
   "metadata": {},
   "outputs": [
    {
     "data": {
      "text/plain": [
       "[('Larry', 3.6666666666666665),\n",
       " ('Allen', 3.4),\n",
       " ('Gertie', 3.7333333333333334),\n",
       " ('Arnold', 3.6666666666666665),\n",
       " ('Joseph', 3.4),\n",
       " ('Grace', 3.2),\n",
       " ('Marcia', 3.8),\n",
       " ('James', 4.133333333333334),\n",
       " ('Colin', 3.4),\n",
       " ('Larry', 3.8),\n",
       " ('Allan', 3.1333333333333333),\n",
       " ('Scott', 3.4),\n",
       " ('Michael', 3.2666666666666666),\n",
       " ('Lawrence', 3.6666666666666665),\n",
       " ('Donna', 3.1333333333333333),\n",
       " ('Harley', 3.6),\n",
       " ('Thomas', 3.6),\n",
       " ('Stuart', 3.4),\n",
       " ('William', 3.466666666666667),\n",
       " ('Virginia', 3.8),\n",
       " ('Carol', 3.4),\n",
       " ('Gina', 4),\n",
       " ('Amy', 3.8),\n",
       " ('Calvin', 3.3333333333333335),\n",
       " ('Anthony', 4)]"
      ]
     },
     "execution_count": 46,
     "metadata": {},
     "output_type": "execute_result"
    }
   ],
   "source": [
    "list(student_with_means)"
   ]
  },
  {
   "cell_type": "code",
   "execution_count": 86,
   "metadata": {},
   "outputs": [
    {
     "data": {
      "text/plain": [
       "('Gale', 3.2666666666666666)"
      ]
     },
     "execution_count": 86,
     "metadata": {},
     "output_type": "execute_result"
    }
   ],
   "source": [
    "lines = get_lines_gen(\"student_grades.txt\")\n",
    "students_with_grades = parse_lines_gen(lines)\n",
    "student_with_means = get_students_with_means_gen(students_with_grades)\n",
    "next(((student, mean) for student, mean in student_with_means if mean < 3.5))"
   ]
  },
  {
   "cell_type": "code",
   "execution_count": 87,
   "metadata": {},
   "outputs": [
    {
     "data": {
      "text/plain": [
       "('Gale', 3.2666666666666666)"
      ]
     },
     "execution_count": 87,
     "metadata": {},
     "output_type": "execute_result"
    }
   ],
   "source": [
    "lines = (line for line in open(\"student_grades.txt\"))\n",
    "splitted_lines = (line.split() for line in lines)\n",
    "students_with_grades = ((student, [int(grade) for grade in grades_str.split(\",\")]) for student, grades_str in splitted_lines)\n",
    "students_with_means = ((student, mean(grades)) for student, grades in students_with_grades)\n",
    "next(((student, mean) for student, mean in students_with_means if mean < 3.5))"
   ]
  },
  {
   "cell_type": "code",
   "execution_count": 152,
   "metadata": {},
   "outputs": [
    {
     "name": "stdout",
     "output_type": "stream",
     "text": [
      "cop_materials.ipynb  student_grades.txt  techcrunch.csv\r\n",
      "irrelevant.txt\t     students.txt\t threading_consumer_producer.py\r\n"
     ]
    }
   ],
   "source": [
    "!ls"
   ]
  },
  {
   "cell_type": "code",
   "execution_count": 154,
   "metadata": {},
   "outputs": [
    {
     "ename": "FileNotFoundError",
     "evalue": "[Errno 2] No such file or directory: 'fdf'",
     "output_type": "error",
     "traceback": [
      "\u001b[0;31m---------------------------------------------------------------------------\u001b[0m",
      "\u001b[0;31mFileNotFoundError\u001b[0m                         Traceback (most recent call last)",
      "\u001b[0;32m<ipython-input-154-ac38b227cf0b>\u001b[0m in \u001b[0;36m<module>\u001b[0;34m\u001b[0m\n\u001b[0;32m----> 1\u001b[0;31m \u001b[0;34m(\u001b[0m\u001b[0mline\u001b[0m \u001b[0;32mfor\u001b[0m \u001b[0mline\u001b[0m \u001b[0;32min\u001b[0m \u001b[0mopen\u001b[0m\u001b[0;34m(\u001b[0m\u001b[0;34m\"fdf\"\u001b[0m\u001b[0;34m)\u001b[0m\u001b[0;34m)\u001b[0m\u001b[0;34m\u001b[0m\u001b[0;34m\u001b[0m\u001b[0m\n\u001b[0m",
      "\u001b[0;31mFileNotFoundError\u001b[0m: [Errno 2] No such file or directory: 'fdf'"
     ]
    }
   ],
   "source": [
    "(line for line in open(\"fdf\"))"
   ]
  },
  {
   "cell_type": "code",
   "execution_count": 165,
   "metadata": {},
   "outputs": [
    {
     "data": {
      "text/plain": [
       "<generator object <genexpr> at 0x7fd10fccad60>"
      ]
     },
     "execution_count": 165,
     "metadata": {},
     "output_type": "execute_result"
    }
   ],
   "source": [
    "(line for line in open(\"irrelevant.txt\") for line in dupa)"
   ]
  },
  {
   "cell_type": "code",
   "execution_count": 160,
   "metadata": {},
   "outputs": [
    {
     "ename": "TypeError",
     "evalue": "'int' object is not iterable",
     "output_type": "error",
     "traceback": [
      "\u001b[0;31m---------------------------------------------------------------------------\u001b[0m",
      "\u001b[0;31mTypeError\u001b[0m                                 Traceback (most recent call last)",
      "\u001b[0;32m<ipython-input-160-eb56a28ffe12>\u001b[0m in \u001b[0;36m<module>\u001b[0;34m\u001b[0m\n\u001b[0;32m----> 1\u001b[0;31m \u001b[0;34m(\u001b[0m\u001b[0mline\u001b[0m \u001b[0;32mfor\u001b[0m \u001b[0mline\u001b[0m \u001b[0;32min\u001b[0m \u001b[0;36m1\u001b[0m\u001b[0;34m)\u001b[0m\u001b[0;34m\u001b[0m\u001b[0;34m\u001b[0m\u001b[0m\n\u001b[0m",
      "\u001b[0;31mTypeError\u001b[0m: 'int' object is not iterable"
     ]
    }
   ],
   "source": [
    "(line for line in 1)"
   ]
  },
  {
   "cell_type": "code",
   "execution_count": 163,
   "metadata": {},
   "outputs": [
    {
     "name": "stdout",
     "output_type": "stream",
     "text": [
      "i=4\n"
     ]
    },
    {
     "ename": "NameError",
     "evalue": "name 'dupa' is not defined",
     "output_type": "error",
     "traceback": [
      "\u001b[0;31m---------------------------------------------------------------------------\u001b[0m",
      "\u001b[0;31mNameError\u001b[0m                                 Traceback (most recent call last)",
      "\u001b[0;32m<ipython-input-163-34c42b72ec95>\u001b[0m in \u001b[0;36m<module>\u001b[0;34m\u001b[0m\n\u001b[1;32m      4\u001b[0m \u001b[0mprint\u001b[0m\u001b[0;34m(\u001b[0m\u001b[0;34mf\"{i=}\"\u001b[0m\u001b[0;34m)\u001b[0m\u001b[0;34m\u001b[0m\u001b[0;34m\u001b[0m\u001b[0m\n\u001b[1;32m      5\u001b[0m \u001b[0;32mfor\u001b[0m \u001b[0ml\u001b[0m \u001b[0;32min\u001b[0m \u001b[0mlambdas\u001b[0m\u001b[0;34m:\u001b[0m\u001b[0;34m\u001b[0m\u001b[0;34m\u001b[0m\u001b[0m\n\u001b[0;32m----> 6\u001b[0;31m     \u001b[0ml\u001b[0m\u001b[0;34m(\u001b[0m\u001b[0;34m)\u001b[0m\u001b[0;34m\u001b[0m\u001b[0;34m\u001b[0m\u001b[0m\n\u001b[0m",
      "\u001b[0;32m<ipython-input-163-34c42b72ec95>\u001b[0m in \u001b[0;36m<lambda>\u001b[0;34m()\u001b[0m\n\u001b[1;32m      1\u001b[0m \u001b[0mlambdas\u001b[0m \u001b[0;34m=\u001b[0m \u001b[0;34m[\u001b[0m\u001b[0;34m]\u001b[0m\u001b[0;34m\u001b[0m\u001b[0;34m\u001b[0m\u001b[0m\n\u001b[1;32m      2\u001b[0m \u001b[0;32mfor\u001b[0m \u001b[0mi\u001b[0m \u001b[0;32min\u001b[0m \u001b[0mrange\u001b[0m\u001b[0;34m(\u001b[0m\u001b[0;36m5\u001b[0m\u001b[0;34m)\u001b[0m\u001b[0;34m:\u001b[0m\u001b[0;34m\u001b[0m\u001b[0;34m\u001b[0m\u001b[0m\n\u001b[0;32m----> 3\u001b[0;31m     \u001b[0mlambdas\u001b[0m\u001b[0;34m.\u001b[0m\u001b[0mappend\u001b[0m\u001b[0;34m(\u001b[0m\u001b[0;32mlambda\u001b[0m\u001b[0;34m:\u001b[0m \u001b[0mprint\u001b[0m\u001b[0;34m(\u001b[0m\u001b[0mdupa\u001b[0m\u001b[0;34m)\u001b[0m\u001b[0;34m)\u001b[0m\u001b[0;34m\u001b[0m\u001b[0;34m\u001b[0m\u001b[0m\n\u001b[0m\u001b[1;32m      4\u001b[0m \u001b[0mprint\u001b[0m\u001b[0;34m(\u001b[0m\u001b[0;34mf\"{i=}\"\u001b[0m\u001b[0;34m)\u001b[0m\u001b[0;34m\u001b[0m\u001b[0;34m\u001b[0m\u001b[0m\n\u001b[1;32m      5\u001b[0m \u001b[0;32mfor\u001b[0m \u001b[0ml\u001b[0m \u001b[0;32min\u001b[0m \u001b[0mlambdas\u001b[0m\u001b[0;34m:\u001b[0m\u001b[0;34m\u001b[0m\u001b[0;34m\u001b[0m\u001b[0m\n",
      "\u001b[0;31mNameError\u001b[0m: name 'dupa' is not defined"
     ]
    }
   ],
   "source": [
    "lambdas = []\n",
    "for i in range(5):\n",
    "    lambdas.append(lambda: print(dupa))\n",
    "print(f\"{i=}\")\n",
    "for l in lambdas:\n",
    "    l()"
   ]
  },
  {
   "cell_type": "markdown",
   "metadata": {},
   "source": [
    "### Other generator methods: send, throw, close"
   ]
  },
  {
   "cell_type": "code",
   "execution_count": 148,
   "metadata": {},
   "outputs": [],
   "source": [
    "def adjustable_counter():\n",
    "    current = 0\n",
    "    while True:\n",
    "        next_val = yield current\n",
    "        if next_val is not None:\n",
    "            current = next_val\n",
    "        current += 1\n",
    "\n",
    "\n",
    "c = adjustable_counter()"
   ]
  },
  {
   "cell_type": "code",
   "execution_count": 149,
   "metadata": {
    "scrolled": true
   },
   "outputs": [
    {
     "data": {
      "text/plain": [
       "0"
      ]
     },
     "execution_count": 149,
     "metadata": {},
     "output_type": "execute_result"
    }
   ],
   "source": [
    "c.send(None)"
   ]
  },
  {
   "cell_type": "code",
   "execution_count": 150,
   "metadata": {
    "scrolled": true
   },
   "outputs": [
    {
     "data": {
      "text/plain": [
       "1"
      ]
     },
     "execution_count": 150,
     "metadata": {},
     "output_type": "execute_result"
    }
   ],
   "source": [
    "next(c)"
   ]
  },
  {
   "cell_type": "code",
   "execution_count": 151,
   "metadata": {},
   "outputs": [
    {
     "data": {
      "text/plain": [
       "2"
      ]
     },
     "execution_count": 151,
     "metadata": {},
     "output_type": "execute_result"
    }
   ],
   "source": [
    "next(c)"
   ]
  },
  {
   "cell_type": "code",
   "execution_count": 147,
   "metadata": {},
   "outputs": [
    {
     "data": {
      "text/plain": [
       "-99"
      ]
     },
     "execution_count": 147,
     "metadata": {},
     "output_type": "execute_result"
    }
   ],
   "source": [
    "c.send(-100) # Spoiler alert - that's how coroutines communitate"
   ]
  },
  {
   "cell_type": "code",
   "execution_count": 113,
   "metadata": {},
   "outputs": [
    {
     "data": {
      "text/plain": [
       "-98"
      ]
     },
     "execution_count": 113,
     "metadata": {},
     "output_type": "execute_result"
    }
   ],
   "source": [
    "next(c)"
   ]
  },
  {
   "cell_type": "code",
   "execution_count": 114,
   "metadata": {},
   "outputs": [
    {
     "ename": "RuntimeError",
     "evalue": "Sorry",
     "output_type": "error",
     "traceback": [
      "\u001b[0;31m---------------------------------------------------------------------------\u001b[0m",
      "\u001b[0;31mRuntimeError\u001b[0m                              Traceback (most recent call last)",
      "\u001b[0;32m<ipython-input-114-4e52024f2adf>\u001b[0m in \u001b[0;36m<module>\u001b[0;34m\u001b[0m\n\u001b[0;32m----> 1\u001b[0;31m \u001b[0mc\u001b[0m\u001b[0;34m.\u001b[0m\u001b[0mthrow\u001b[0m\u001b[0;34m(\u001b[0m\u001b[0mRuntimeError\u001b[0m\u001b[0;34m(\u001b[0m\u001b[0;34m\"Sorry\"\u001b[0m\u001b[0;34m)\u001b[0m\u001b[0;34m)\u001b[0m\u001b[0;34m\u001b[0m\u001b[0;34m\u001b[0m\u001b[0m\n\u001b[0m",
      "\u001b[0;32m<ipython-input-109-d112ac940fd0>\u001b[0m in \u001b[0;36madjustable_counter\u001b[0;34m()\u001b[0m\n\u001b[1;32m      2\u001b[0m     \u001b[0mcurrent\u001b[0m \u001b[0;34m=\u001b[0m \u001b[0;36m0\u001b[0m\u001b[0;34m\u001b[0m\u001b[0;34m\u001b[0m\u001b[0m\n\u001b[1;32m      3\u001b[0m     \u001b[0;32mwhile\u001b[0m \u001b[0;32mTrue\u001b[0m\u001b[0;34m:\u001b[0m\u001b[0;34m\u001b[0m\u001b[0;34m\u001b[0m\u001b[0m\n\u001b[0;32m----> 4\u001b[0;31m         \u001b[0mnext_val\u001b[0m \u001b[0;34m=\u001b[0m \u001b[0;32myield\u001b[0m \u001b[0mcurrent\u001b[0m\u001b[0;34m\u001b[0m\u001b[0;34m\u001b[0m\u001b[0m\n\u001b[0m\u001b[1;32m      5\u001b[0m         \u001b[0;32mif\u001b[0m \u001b[0mnext_val\u001b[0m \u001b[0;32mis\u001b[0m \u001b[0;32mnot\u001b[0m \u001b[0;32mNone\u001b[0m\u001b[0;34m:\u001b[0m\u001b[0;34m\u001b[0m\u001b[0;34m\u001b[0m\u001b[0m\n\u001b[1;32m      6\u001b[0m             \u001b[0mcurrent\u001b[0m \u001b[0;34m=\u001b[0m \u001b[0mnext_val\u001b[0m\u001b[0;34m\u001b[0m\u001b[0;34m\u001b[0m\u001b[0m\n",
      "\u001b[0;31mRuntimeError\u001b[0m: Sorry"
     ]
    }
   ],
   "source": [
    "c.throw(RuntimeError(\"Sorry\"))"
   ]
  },
  {
   "cell_type": "code",
   "execution_count": 115,
   "metadata": {},
   "outputs": [],
   "source": [
    "c.close()"
   ]
  },
  {
   "cell_type": "markdown",
   "metadata": {},
   "source": [
    "### Context managers - RAII in Python"
   ]
  },
  {
   "cell_type": "code",
   "execution_count": 126,
   "metadata": {},
   "outputs": [],
   "source": [
    "with open(\"irrelevant.txt\",\"w\") as file:\n",
    "    file.write(\"raii\")"
   ]
  },
  {
   "cell_type": "markdown",
   "metadata": {},
   "source": [
    "Is better than:"
   ]
  },
  {
   "cell_type": "code",
   "execution_count": 127,
   "metadata": {},
   "outputs": [],
   "source": [
    "file = open(\"irrelevant.txt\",\"w\")\n",
    "try:\n",
    "    file.write(\"raii\")\n",
    "finally:\n",
    "    file.close()"
   ]
  },
  {
   "cell_type": "code",
   "execution_count": 128,
   "metadata": {},
   "outputs": [],
   "source": [
    "from threading import Lock\n",
    "\n",
    "lock = Lock()\n",
    "x = 10"
   ]
  },
  {
   "cell_type": "code",
   "execution_count": 129,
   "metadata": {},
   "outputs": [],
   "source": [
    "lock.acquire()\n",
    "x += 1\n",
    "lock.release()"
   ]
  },
  {
   "cell_type": "code",
   "execution_count": 130,
   "metadata": {},
   "outputs": [],
   "source": [
    "with lock:\n",
    "    x += 1\n",
    "with lock:\n",
    "    x += 1"
   ]
  },
  {
   "cell_type": "code",
   "execution_count": 135,
   "metadata": {
    "scrolled": false
   },
   "outputs": [
    {
     "data": {
      "text/html": [
       "<blockquote class=\"reddit-card\" data-card-created=\"1570178622\"><a href=\"https://www.reddit.com/r/ProgrammerHumor/comments/bfr1xc/i_love_python_but/\">I love Python, but...</a> from <a href=\"http://www.reddit.com/r/ProgrammerHumor\">r/ProgrammerHumor</a></blockquote>\n",
       "<script async src=\"//embed.redditmedia.com/widgets/platform.js\" charset=\"UTF-8\"></script>\n"
      ],
      "text/plain": [
       "<IPython.core.display.HTML object>"
      ]
     },
     "metadata": {},
     "output_type": "display_data"
    }
   ],
   "source": [
    "%%HTML\n",
    "<blockquote class=\"reddit-card\" data-card-created=\"1570178622\"><a href=\"https://www.reddit.com/r/ProgrammerHumor/comments/bfr1xc/i_love_python_but/\">I love Python, but...</a> from <a href=\"http://www.reddit.com/r/ProgrammerHumor\">r/ProgrammerHumor</a></blockquote>\n",
    "<script async src=\"//embed.redditmedia.com/widgets/platform.js\" charset=\"UTF-8\"></script>"
   ]
  },
  {
   "cell_type": "markdown",
   "metadata": {},
   "source": [
    "#### How does this work under the hood?"
   ]
  },
  {
   "cell_type": "code",
   "execution_count": 133,
   "metadata": {},
   "outputs": [
    {
     "name": "stdout",
     "output_type": "stream",
     "text": [
      "__exit__ called\n"
     ]
    },
    {
     "ename": "ZeroDivisionError",
     "evalue": "division by zero",
     "output_type": "error",
     "traceback": [
      "\u001b[0;31m---------------------------------------------------------------------------\u001b[0m",
      "\u001b[0;31mZeroDivisionError\u001b[0m                         Traceback (most recent call last)",
      "\u001b[0;32m<ipython-input-133-9376f50f68e1>\u001b[0m in \u001b[0;36m<module>\u001b[0;34m\u001b[0m\n\u001b[1;32m     16\u001b[0m \u001b[0;34m\u001b[0m\u001b[0m\n\u001b[1;32m     17\u001b[0m \u001b[0;32mwith\u001b[0m \u001b[0mFile\u001b[0m\u001b[0;34m(\u001b[0m\u001b[0;34m\"irrelevant.txt\"\u001b[0m\u001b[0;34m,\u001b[0m \u001b[0;34m\"r\"\u001b[0m\u001b[0;34m)\u001b[0m \u001b[0;32mas\u001b[0m \u001b[0mf\u001b[0m\u001b[0;34m:\u001b[0m\u001b[0;34m\u001b[0m\u001b[0;34m\u001b[0m\u001b[0m\n\u001b[0;32m---> 18\u001b[0;31m     \u001b[0;36m10\u001b[0m \u001b[0;34m/\u001b[0m \u001b[0;36m0\u001b[0m\u001b[0;34m\u001b[0m\u001b[0;34m\u001b[0m\u001b[0m\n\u001b[0m",
      "\u001b[0;31mZeroDivisionError\u001b[0m: division by zero"
     ]
    }
   ],
   "source": [
    "class File:\n",
    "    def __init__(self, name: str, mode: str = \"r\"):\n",
    "        self.name = name\n",
    "        self.mode = mode\n",
    "        self.file_handle = None\n",
    "\n",
    "    def __enter__(self):\n",
    "        self.file_handle = open(self.name, self.mode)\n",
    "        return self.file_handle\n",
    "\n",
    "    def __exit__(self, exc_type, exc_val, exc_tb):\n",
    "        print(\"__exit__ called\")\n",
    "        if self.file_handle:\n",
    "            self.file_handle.close()\n",
    "\n",
    "\n",
    "with File(\"irrelevant.txt\", \"r\") as f:\n",
    "    10 / 0"
   ]
  },
  {
   "cell_type": "markdown",
   "metadata": {},
   "source": [
    "### contextlib"
   ]
  },
  {
   "cell_type": "code",
   "execution_count": 134,
   "metadata": {},
   "outputs": [],
   "source": [
    "from contextlib import contextmanager\n",
    "\n",
    "\n",
    "@contextmanager\n",
    "def File(name: str, mode: str = \"r\"):\n",
    "    file_handle = None\n",
    "    try:\n",
    "        file_handle = open(name, mode)\n",
    "        yield file_handle\n",
    "    finally:\n",
    "        if file_handle:\n",
    "            print(\"closing\")\n",
    "            file_handle.close()"
   ]
  },
  {
   "cell_type": "code",
   "execution_count": 136,
   "metadata": {},
   "outputs": [
    {
     "name": "stdout",
     "output_type": "stream",
     "text": [
      "closing\n"
     ]
    }
   ],
   "source": [
    "with File(\"irrelevant.txt\", \"r\") as f:\n",
    "    pass"
   ]
  },
  {
   "cell_type": "code",
   "execution_count": 137,
   "metadata": {},
   "outputs": [
    {
     "ename": "FileNotFoundError",
     "evalue": "[Errno 2] No such file or directory: '3.txt'",
     "output_type": "error",
     "traceback": [
      "\u001b[0;31m---------------------------------------------------------------------------\u001b[0m",
      "\u001b[0;31mFileNotFoundError\u001b[0m                         Traceback (most recent call last)",
      "\u001b[0;32m<ipython-input-137-ed68aac521cf>\u001b[0m in \u001b[0;36m<module>\u001b[0;34m\u001b[0m\n\u001b[0;32m----> 1\u001b[0;31m \u001b[0;32mwith\u001b[0m \u001b[0mFile\u001b[0m\u001b[0;34m(\u001b[0m\u001b[0;34m\"3.txt\"\u001b[0m\u001b[0;34m,\u001b[0m \u001b[0;34m\"r\"\u001b[0m\u001b[0;34m)\u001b[0m \u001b[0;32mas\u001b[0m \u001b[0mf\u001b[0m\u001b[0;34m:\u001b[0m\u001b[0;34m\u001b[0m\u001b[0;34m\u001b[0m\u001b[0m\n\u001b[0m\u001b[1;32m      2\u001b[0m     \u001b[0;36m10\u001b[0m \u001b[0;34m/\u001b[0m \u001b[0;36m0\u001b[0m\u001b[0;34m\u001b[0m\u001b[0;34m\u001b[0m\u001b[0m\n",
      "\u001b[0;32m/usr/lib/python3.8/contextlib.py\u001b[0m in \u001b[0;36m__enter__\u001b[0;34m(self)\u001b[0m\n\u001b[1;32m    111\u001b[0m         \u001b[0;32mdel\u001b[0m \u001b[0mself\u001b[0m\u001b[0;34m.\u001b[0m\u001b[0margs\u001b[0m\u001b[0;34m,\u001b[0m \u001b[0mself\u001b[0m\u001b[0;34m.\u001b[0m\u001b[0mkwds\u001b[0m\u001b[0;34m,\u001b[0m \u001b[0mself\u001b[0m\u001b[0;34m.\u001b[0m\u001b[0mfunc\u001b[0m\u001b[0;34m\u001b[0m\u001b[0;34m\u001b[0m\u001b[0m\n\u001b[1;32m    112\u001b[0m         \u001b[0;32mtry\u001b[0m\u001b[0;34m:\u001b[0m\u001b[0;34m\u001b[0m\u001b[0;34m\u001b[0m\u001b[0m\n\u001b[0;32m--> 113\u001b[0;31m             \u001b[0;32mreturn\u001b[0m \u001b[0mnext\u001b[0m\u001b[0;34m(\u001b[0m\u001b[0mself\u001b[0m\u001b[0;34m.\u001b[0m\u001b[0mgen\u001b[0m\u001b[0;34m)\u001b[0m\u001b[0;34m\u001b[0m\u001b[0;34m\u001b[0m\u001b[0m\n\u001b[0m\u001b[1;32m    114\u001b[0m         \u001b[0;32mexcept\u001b[0m \u001b[0mStopIteration\u001b[0m\u001b[0;34m:\u001b[0m\u001b[0;34m\u001b[0m\u001b[0;34m\u001b[0m\u001b[0m\n\u001b[1;32m    115\u001b[0m             \u001b[0;32mraise\u001b[0m \u001b[0mRuntimeError\u001b[0m\u001b[0;34m(\u001b[0m\u001b[0;34m\"generator didn't yield\"\u001b[0m\u001b[0;34m)\u001b[0m \u001b[0;32mfrom\u001b[0m \u001b[0;32mNone\u001b[0m\u001b[0;34m\u001b[0m\u001b[0;34m\u001b[0m\u001b[0m\n",
      "\u001b[0;32m<ipython-input-134-63896fde37ed>\u001b[0m in \u001b[0;36mFile\u001b[0;34m(name, mode)\u001b[0m\n\u001b[1;32m      6\u001b[0m     \u001b[0mfile_handle\u001b[0m \u001b[0;34m=\u001b[0m \u001b[0;32mNone\u001b[0m\u001b[0;34m\u001b[0m\u001b[0;34m\u001b[0m\u001b[0m\n\u001b[1;32m      7\u001b[0m     \u001b[0;32mtry\u001b[0m\u001b[0;34m:\u001b[0m\u001b[0;34m\u001b[0m\u001b[0;34m\u001b[0m\u001b[0m\n\u001b[0;32m----> 8\u001b[0;31m         \u001b[0mfile_handle\u001b[0m \u001b[0;34m=\u001b[0m \u001b[0mopen\u001b[0m\u001b[0;34m(\u001b[0m\u001b[0mname\u001b[0m\u001b[0;34m,\u001b[0m \u001b[0mmode\u001b[0m\u001b[0;34m)\u001b[0m\u001b[0;34m\u001b[0m\u001b[0;34m\u001b[0m\u001b[0m\n\u001b[0m\u001b[1;32m      9\u001b[0m         \u001b[0;32myield\u001b[0m \u001b[0mfile_handle\u001b[0m\u001b[0;34m\u001b[0m\u001b[0;34m\u001b[0m\u001b[0m\n\u001b[1;32m     10\u001b[0m     \u001b[0;32mfinally\u001b[0m\u001b[0;34m:\u001b[0m\u001b[0;34m\u001b[0m\u001b[0;34m\u001b[0m\u001b[0m\n",
      "\u001b[0;31mFileNotFoundError\u001b[0m: [Errno 2] No such file or directory: '3.txt'"
     ]
    }
   ],
   "source": [
    "with File(\"3.txt\", \"r\") as f:\n",
    "    10 / 0"
   ]
  },
  {
   "cell_type": "markdown",
   "metadata": {},
   "source": []
  },
  {
   "cell_type": "code",
   "execution_count": 138,
   "metadata": {},
   "outputs": [],
   "source": [
    "import sys\n",
    "import datetime\n",
    "from typing import Generator\n",
    "from typing.io import TextIO\n",
    "from contextlib import contextmanager\n",
    "\n",
    "\n",
    "\n",
    "@contextmanager\n",
    "def execution_time_printed(file: TextIO = sys.stdout) -> Generator[None, None, None]:\n",
    "    start = datetime.datetime.now()\n",
    "    yield\n",
    "    print(\"Execution time:\", datetime.datetime.now() - start, file=file)"
   ]
  },
  {
   "cell_type": "code",
   "execution_count": 139,
   "metadata": {},
   "outputs": [
    {
     "name": "stdout",
     "output_type": "stream",
     "text": [
      "inside\n",
      "Execution time: 0:00:00.500736\n",
      "outside\n"
     ]
    }
   ],
   "source": [
    "with execution_time_printed():\n",
    "    print(\"inside\")\n",
    "    import time\n",
    "    time.sleep(0.5)\n",
    "print(\"outside\")"
   ]
  },
  {
   "cell_type": "markdown",
   "metadata": {},
   "source": [
    "### Reentrant contextmanagers"
   ]
  },
  {
   "cell_type": "code",
   "execution_count": 140,
   "metadata": {},
   "outputs": [
    {
     "ename": "ValueError",
     "evalue": "I/O operation on closed file.",
     "output_type": "error",
     "traceback": [
      "\u001b[0;31m---------------------------------------------------------------------------\u001b[0m",
      "\u001b[0;31mValueError\u001b[0m                                Traceback (most recent call last)",
      "\u001b[0;32m<ipython-input-140-9f973b870795>\u001b[0m in \u001b[0;36m<module>\u001b[0;34m\u001b[0m\n\u001b[1;32m      4\u001b[0m \u001b[0;34m\u001b[0m\u001b[0m\n\u001b[1;32m      5\u001b[0m \u001b[0;34m\u001b[0m\u001b[0m\n\u001b[0;32m----> 6\u001b[0;31m \u001b[0;32mwith\u001b[0m \u001b[0mfile\u001b[0m\u001b[0;34m:\u001b[0m\u001b[0;34m\u001b[0m\u001b[0;34m\u001b[0m\u001b[0m\n\u001b[0m\u001b[1;32m      7\u001b[0m     \u001b[0mfile\u001b[0m\u001b[0;34m.\u001b[0m\u001b[0mwrite\u001b[0m\u001b[0;34m(\u001b[0m\u001b[0;34m\"a\"\u001b[0m\u001b[0;34m)\u001b[0m\u001b[0;34m\u001b[0m\u001b[0;34m\u001b[0m\u001b[0m\n",
      "\u001b[0;31mValueError\u001b[0m: I/O operation on closed file."
     ]
    }
   ],
   "source": [
    "file = open(\"irrelevant.txt\",\"w\")\n",
    "with file:\n",
    "    file.write(\"a\")\n",
    "\n",
    "\n",
    "with file:\n",
    "    file.write(\"a\")"
   ]
  },
  {
   "cell_type": "code",
   "execution_count": 141,
   "metadata": {},
   "outputs": [],
   "source": [
    "import sqlite3\n",
    "db = sqlite3.connect(\":memory:\")\n",
    "with db:\n",
    "    db.execute(\"\")\n",
    "    db.execute(\"\")"
   ]
  },
  {
   "cell_type": "code",
   "execution_count": 142,
   "metadata": {},
   "outputs": [],
   "source": [
    "with db:\n",
    "    db.execute(\"\")\n",
    "    db.execute(\"\")"
   ]
  },
  {
   "cell_type": "markdown",
   "metadata": {},
   "source": [
    "### Btw threading pool context manager"
   ]
  },
  {
   "cell_type": "code",
   "execution_count": 143,
   "metadata": {},
   "outputs": [
    {
     "name": "stdout",
     "output_type": "stream",
     "text": [
      "733018741971166252529244672995227796776583345783942437386911678051742014907619818389889490523633966891088361470574959346120460571462260749066868322280895817921819178047106351622746089787222709001409723271535998886740900624008120633567081904814632812393533764463134148203902627783449817391855430335563732106041226371560673691183984708116601872233266074247493626304648260263767914583249791984053769482918833516091413131011123944919964273965579371981208614941585953495908535921540210708056885341387737215923345202544222865141850763901074317449693617326298168109535915635940121796253976420394712905525890085230066381155268301872764521970724361150250533240741250911370641578495445037349949847056446112243875919940177685220040160664042867777937760175315580842852772334361081793849764931709880797656009445214260838004008425745329486287217583337196739975624879209997958066918269289529173759400388462627027867023449158801888859657106016910393756105722308386102404609268566550368738720443422703712421937413064228232666730605742388335837146714118055611327514203299723649208298344877573265368313069762781039793226859829488229032564965635731481369752167217585943588854930073123415040389709513212962223638396059885947892393069120539629752913087293860710229309854604802321674065167382714715102476300146693438431833224964213369532024918771644330976993898734654636960222338307689812245659000814812860386873604770823862137671384853381092605916632447158620208279102871362522121737075798746297634021439677681885846906025762209900264981149145400622176046541895913713446104210012678561757945542108470975177238574885971783008091688989094139568186322074509855040235429441987295597788583656003164149522040284092940950997841383270838931250004957560959392148357213125798758355221152004876638131530060401294918574742158403027075892317311713232948774508045444387008377268956511566790988750066274475945057011826156359365664084922898519338475775136584478799585953802786369705215183341960068786541347670144480851661915646211142904738434781594527201521904996219737980968884208250267436396423981779399709186303960293407672554877346877193170897982220120029537710504050457313802321446995592434916524383256286111803049392908220573240027642399185919278901303127877945119916025120410258623536046989159056988455695917457277794657573586903543406892809506842341172324188614146189747989997492566982444418485858555939830994931765546646159933948646331181720254477223093614552419921625948715007606190469859917311824745902574837132432028609681828479562137848761003845549339456254612745501089667544053262976758087180329859844324991679303251520118205924889348811070368534970345655190383142368597970622914787824113699770230464815835988172741718871079971541784210688842581288010501153867757557117911157916834496975757069921359922064002354851413718493414469919988528124300509472377943419402710070938638340816072261896269139282992942967710326722487988387814927252378444344275944579731813013115789048970941051188880593003843626208600970181761638829477861608229607983725051555487136745926844381097959339538810272017727875770008857972396527027073630500507\n"
     ]
    }
   ],
   "source": [
    "from concurrent.futures import ThreadPoolExecutor\n",
    "\n",
    "with ThreadPoolExecutor(max_workers=1) as executor:\n",
    "    future = executor.submit(pow, 323, 1235)\n",
    "\n",
    "print(future.result())"
   ]
  },
  {
   "cell_type": "code",
   "execution_count": 142,
   "metadata": {},
   "outputs": [
    {
     "data": {
      "text/plain": [
       "[1,\n",
       " 1,\n",
       " 4,\n",
       " 27,\n",
       " 256,\n",
       " 3125,\n",
       " 46656,\n",
       " 823543,\n",
       " 16777216,\n",
       " 387420489,\n",
       " 10000000000,\n",
       " 285311670611,\n",
       " 8916100448256,\n",
       " 302875106592253,\n",
       " 11112006825558016,\n",
       " 437893890380859375,\n",
       " 18446744073709551616,\n",
       " 827240261886336764177,\n",
       " 39346408075296537575424,\n",
       " 1978419655660313589123979,\n",
       " 104857600000000000000000000,\n",
       " 5842587018385982521381124421,\n",
       " 341427877364219557396646723584,\n",
       " 20880467999847912034355032910567,\n",
       " 1333735776850284124449081472843776,\n",
       " 88817841970012523233890533447265625,\n",
       " 6156119580207157310796674288400203776,\n",
       " 443426488243037769948249630619149892803,\n",
       " 33145523113253374862572728253364605812736,\n",
       " 2567686153161211134561828214731016126483469,\n",
       " 205891132094649000000000000000000000000000000,\n",
       " 17069174130723235958610643029059314756044734431,\n",
       " 1461501637330902918203684832716283019655932542976,\n",
       " 129110040087761027839616029934664535539337183380513,\n",
       " 11756638905368616011414050501310355554617941909569536,\n",
       " 1102507499354148695951786433413508348166942596435546875,\n",
       " 106387358923716524807713475752456393740167855629859291136,\n",
       " 10555134955777783414078330085995832946127396083370199442517,\n",
       " 1075911801979993982060429252856123779115487368830416064610304,\n",
       " 112595147462071192539789448988889059930192105219196517009951959,\n",
       " 12089258196146291747061760000000000000000000000000000000000000000,\n",
       " 1330877630632711998713399240963346255985889330161650994325137953641,\n",
       " 150130937545296572356771972164254457814047970568738777235893533016064,\n",
       " 17343773367030267519903781288812032158308062539012091953077767198995507,\n",
       " 2050773823560610053645205609172376035486179836520607547294916966189367296,\n",
       " 248063644451341145494649182395412689744530581492654164321720600128173828125,\n",
       " 30680346300794274230660433647640397899788170645078853280082659754365153181696,\n",
       " 3877924263464448622666648186154330754898344901344205917642325627886496385062863,\n",
       " 500702078263459319174537025249570888246709955377400223021257741084821677152403456,\n",
       " 66009724686219550843768321818371771650147004059278069406814190436565131829325062449,\n",
       " 8881784197001252323389053344726562500000000000000000000000000000000000000000000000000,\n",
       " 1219211305094648479473193481872927834667576992593770717189298225284399541977208231315051,\n",
       " 170676555274132171974277914691501574771358362295975962674353045737940041855191232907575296,\n",
       " 24356848165022712132477606520104725518533453128685640844505130879576720609150223301256150373,\n",
       " 3542118045010639240328481337533320712639808638036812473211109743262552383710557968252383789056,\n",
       " 524744532468751923546122657597368049278513737089035272057324643668607677682302892208099365234375,\n",
       " 79164324866862966607842406018063254671922245312646690223362402918484170424104310169552592050323456,\n",
       " 12158129736671364080886280192352136280305445908985401876990335800107686586023081377754367704855688057,\n",
       " 1900306380941594479763883944859394903933421733915497351026033862324967197615194912638195921621021097984,\n",
       " 302182066535432255614734701333399524449282910532282724655138380663835618264136459996754463358299552427939,\n",
       " 48873677980689257489322752273774603865660850176000000000000000000000000000000000000000000000000000000000000,\n",
       " 8037480562545943774063961638435258139453693382991023311670379647429452389091570630196571368048020948560431661,\n",
       " 1343645645152250046583026779322969373035290953763411540290906502671301148502338015157014479136799509522304466944,\n",
       " 228273036346967044979900512337165522400819024722490933829954793073267717315004135590642802687246850771579138342847,\n",
       " 39402006196394479212279040100143613805079739270465446667948293404245721771497210611414266254884915640806627990306816,\n",
       " 6908252164760920851405538694468286082230378724259454186289117297729987129104901877330036086277686990797519683837890625,\n",
       " 1229984803535237425357460579824952453848609953896821302286319065669207712270213276022808840210306942692366529569453244416,\n",
       " 222337020242360576812569226538683753874082408437758291741262115823894811650848346334502642370010973465496690788650052277723,\n",
       " 40794917954274783314474389422963594412010553412954188046665939634971631296545460720786532465498226465248060567545587093733376,\n",
       " 7596040312163297274222442578208043236112279041839441308045514203595638030283176823539793587591372230230103933110810192201741429,\n",
       " 1435036016098684342856030763566710717400773837392460666392490000000000000000000000000000000000000000000000000000000000000000000000,\n",
       " 275006373483461607657434076627252658495183350017755660813753981774508905998081919405140568848353397233796618192645698819765129996471,\n",
       " 53449019547361999534025300140057538544940601393106611570269540644280818850419033099696863861289188541180498511377339362341642322313216,\n",
       " 10533405146807286720373659460502060785759379112212598116064998418834781689316645387966435364502141349866164216580595609788325190062013833,\n",
       " 2104491907585431988618502284342828809117486560121225263528600151456547899286616078556844571139130505063616644582773621942951905668236312576,\n",
       " 426181657761258833198605424151960757395791315610122269092300199179088043392834051588896184557263865748388820264835885609500110149383544921875,\n",
       " 87464740776733097769356125936571978049204087241719881761346374524717952404307119962211675102409649648957510056235276523073007403698815894552576,\n",
       " 18188037387806198379277339915556929647807403283187048631478337739929618787870634227045716719924575689062274471430368865388203540672666042530996797,\n",
       " 3831589812313461262138726500006414268147534037893115512325908939170687185145438579006950082195309705885134607990418665607337632973770507236843454464,\n",
       " 817598737071050959409276229318696698168591900537987468276932073768901912096673342793217657607316423968313726492566673678273923566086786121551339775919,\n",
       " 176684706477838432958329750074291851582748389687561895812160620129261977600000000000000000000000000000000000000000000000000000000000000000000000000000000,\n",
       " 38662196978715633273404758790074316960214213096178319621856934259807530937321861485192508542873470637501160980081794035970219670238407078788135931371782481,\n",
       " 8565168191027899133831008848558876386078278675251413891745861716969297101478444754225582357726688645588131450754731704968996267139619369035601073162078388224,\n",
       " 1920797877785042297826876342398329981366626138903106707239638623062073160162030496354441554187075110650838449453108757445590084411555537438824653742747212640587,\n",
       " 435973436827325522360279881406914796368935566412408014666801047266959214000936369697318397328752293573138388721289594366953995072735552848220101541587045199118336,\n",
       " 100140253328453899494506997059845948876248360208192710258703340107188607793155063635811515105559240430619077757390331456723193970237417715907213278114795684814453125,\n",
       " 23273773687010809805103263055261877739102071580597940409585933109624493442480014587281684425109432546907773222375549181098538730989934437386098275807854764894176935936,\n",
       " 5472364007515806092890840962213361933646557867359955457554369346343376220574263169290566361924999277451198802156950364045812455566817070274944448633167362192918054601383,\n",
       " 1301592834942972055182648307417315364538725075960067827915311484722452340966317215805106820959190833309704934346517741237438752456673499160125624414995891111204155079786496,\n",
       " 313119843606264301926053344163576361349265045995115651405929697601914062309331717222037671868698420619053704956499930323034173850662765737986672484408801585719796136592384409,\n",
       " 76177348045866392339289727720615561750424801402395196724001565744957137343033038019601000000000000000000000000000000000000000000000000000000000000000000000000000000000000000000,\n",
       " 18739875497044403588343023979942190913870699099585922106152367184893220649019310617359174987694158429118066514085327846177870674743597929299970612055662195817332948573029136642691,\n",
       " 4661010870363696423905966214003100982132353937802439629342577411201858740087903585402257017449025558046308403555128684298484146339920553893653953988411898447534660818749990933364736,\n",
       " 1171963849265444210417582587751248824708146148109809710033315342359111701761656602431435296049358716378517967896050409107202745103300944452206991034477139649315017364735008987336482893,\n",
       " 297864151605271565671522691888487433398201478214104374836863448020189421697406537648052418936130195867966416829477021503670303547569409436317072769246334246265969267698928260777661956096,\n",
       " 76514281153818492497108910522923939889608448570427803043646059567958108943618778356292728753731576478313833091931623635414286047187179783985819399826089348692903513438068330287933349609375,\n",
       " 19862704051982797580576125639477612374708322893151441233985491658847582706097318376646920317555554524971459613579567077892532792722158677152071233347563474577287871314398899332488478637162496,\n",
       " 5210245939718361468048211048414496022534389576033913164940029913016568215580398296261072019231723279851007241838011659882766685337218633992220688288491655299087016195985205218347711578485744737,\n",
       " 1380878341261486750656911803252309726876604105686729638072729543243701479670593033211008001443536626310535980077544691196522513327846303307992442770355560270350429006522588433404602387992091295744,\n",
       " 369729637649726772657187905628805440595668764281741102430259972423552570455277523421410650010128232727940978889548326540119429996769494359451621570193644014418071060667659301384999779999159200499899]"
      ]
     },
     "execution_count": 142,
     "metadata": {},
     "output_type": "execute_result"
    }
   ],
   "source": [
    "from concurrent.futures import ProcessPoolExecutor, Executor\n",
    "\n",
    "with ProcessPoolExecutor(max_workers=8) as executor:\n",
    "    executor: Executor\n",
    "    powers = list(executor.map(pow, range(100), range(100)))\n",
    "powers"
   ]
  },
  {
   "cell_type": "markdown",
   "metadata": {},
   "source": [
    "### Other useful contextlib members"
   ]
  },
  {
   "cell_type": "markdown",
   "metadata": {},
   "source": [
    "# TODO: multiple managers in one with"
   ]
  },
  {
   "cell_type": "markdown",
   "metadata": {},
   "source": [
    "# TODO: "
   ]
  },
  {
   "cell_type": "markdown",
   "metadata": {},
   "source": [
    "https://docs.python.org/3/library/contextlib.html"
   ]
  },
  {
   "cell_type": "markdown",
   "metadata": {},
   "source": [
    "https://www.rath.org/on-the-beauty-of-pythons-exitstack.html"
   ]
  },
  {
   "cell_type": "markdown",
   "metadata": {},
   "source": [
    "### Multiple inheritance, method resolution order (mro)"
   ]
  },
  {
   "cell_type": "code",
   "execution_count": null,
   "metadata": {},
   "outputs": [],
   "source": [
    "class A:\n",
    "    def f(self):\n",
    "        print(\"A\")\n",
    "\n",
    "class B:\n",
    "    def f(self):\n",
    "        print(\"B\")\n",
    "\n",
    "class C(B,A):\n",
    "    pass\n",
    "\n",
    "C().f()                             \n",
    "print(C.mro())"
   ]
  },
  {
   "cell_type": "code",
   "execution_count": null,
   "metadata": {},
   "outputs": [],
   "source": [
    "class C(A, B):\n",
    "    pass\n",
    "\n",
    "C().f()                             \n",
    "print(C.mro())"
   ]
  },
  {
   "cell_type": "code",
   "execution_count": 50,
   "metadata": {},
   "outputs": [
    {
     "ename": "NameError",
     "evalue": "name 'A' is not defined",
     "output_type": "error",
     "traceback": [
      "\u001b[0;31m---------------------------------------------------------------------------\u001b[0m",
      "\u001b[0;31mNameError\u001b[0m                                 Traceback (most recent call last)",
      "\u001b[0;32m<ipython-input-50-79ed242d162e>\u001b[0m in \u001b[0;36m<module>\u001b[0;34m\u001b[0m\n\u001b[0;32m----> 1\u001b[0;31m \u001b[0;32mclass\u001b[0m \u001b[0mC\u001b[0m\u001b[0;34m(\u001b[0m\u001b[0mA\u001b[0m\u001b[0;34m,\u001b[0m \u001b[0mB\u001b[0m\u001b[0;34m)\u001b[0m\u001b[0;34m:\u001b[0m\u001b[0;34m\u001b[0m\u001b[0;34m\u001b[0m\u001b[0m\n\u001b[0m\u001b[1;32m      2\u001b[0m     \u001b[0;32mdef\u001b[0m \u001b[0mf\u001b[0m\u001b[0;34m(\u001b[0m\u001b[0mself\u001b[0m\u001b[0;34m)\u001b[0m\u001b[0;34m:\u001b[0m\u001b[0;34m\u001b[0m\u001b[0;34m\u001b[0m\u001b[0m\n\u001b[1;32m      3\u001b[0m         \u001b[0mB\u001b[0m\u001b[0;34m.\u001b[0m\u001b[0mf\u001b[0m\u001b[0;34m(\u001b[0m\u001b[0mself\u001b[0m\u001b[0;34m)\u001b[0m \u001b[0;31m# in general class.method(self) == object.method()\u001b[0m\u001b[0;34m\u001b[0m\u001b[0;34m\u001b[0m\u001b[0m\n\u001b[1;32m      4\u001b[0m \u001b[0;34m\u001b[0m\u001b[0m\n\u001b[1;32m      5\u001b[0m \u001b[0mC\u001b[0m\u001b[0;34m(\u001b[0m\u001b[0;34m)\u001b[0m\u001b[0;34m.\u001b[0m\u001b[0mf\u001b[0m\u001b[0;34m(\u001b[0m\u001b[0;34m)\u001b[0m\u001b[0;34m\u001b[0m\u001b[0;34m\u001b[0m\u001b[0m\n",
      "\u001b[0;31mNameError\u001b[0m: name 'A' is not defined"
     ]
    }
   ],
   "source": [
    "class C(A, B):\n",
    "    def f(self):\n",
    "        B.f(self) # in general class.method(self) == object.method()\n",
    "\n",
    "C().f()"
   ]
  },
  {
   "cell_type": "markdown",
   "metadata": {},
   "source": [
    "### debugging - pdb"
   ]
  },
  {
   "cell_type": "code",
   "execution_count": null,
   "metadata": {},
   "outputs": [],
   "source": []
  },
  {
   "cell_type": "markdown",
   "metadata": {},
   "source": [
    "### Asyncio"
   ]
  },
  {
   "cell_type": "code",
   "execution_count": null,
   "metadata": {},
   "outputs": [],
   "source": [
    "import asyncio\n",
    "import time\n",
    "\n",
    "\n",
    "async def say_after(delay, what):\n",
    "    await asyncio.sleep(delay)\n",
    "    print(what)\n",
    "\n",
    "\n",
    "async def main():\n",
    "    task1 = asyncio.create_task(say_after(1, \"hello\"))\n",
    "\n",
    "    task2 = asyncio.create_task(say_after(2, \"world\"))\n",
    "\n",
    "    print(f\"started at {time.strftime('%X')}\")\n",
    "\n",
    "    # Wait until both tasks are completed (should take\n",
    "    # around 2 seconds.)\n",
    "    await task1\n",
    "    await task2\n",
    "\n",
    "    print(f\"finished at {time.strftime('%X')}\")\n",
    "\n",
    "await main()"
   ]
  },
  {
   "cell_type": "markdown",
   "metadata": {},
   "source": [
    "Normally you would use ```asyncio.run(main())```, jupyter (IPython) is already running an event loop"
   ]
  },
  {
   "cell_type": "code",
   "execution_count": null,
   "metadata": {},
   "outputs": [],
   "source": [
    "import time\n",
    "from queue import Queue\n",
    "from threading import Thread\n",
    "\n",
    "\n",
    "def producer_func(queue):\n",
    "    print(f\"Putting {1}\")\n",
    "    queue.put(1)\n",
    "    print(f\"Putting {2}\")\n",
    "    queue.put(2)\n",
    "    print(f\"Producer waiting for more tasks\")\n",
    "    time.sleep(2)\n",
    "    print(f\"Putting {3}\")\n",
    "    queue.put(3)\n",
    "    print(f\"Producer shuting down\")\n",
    "    queue.put(None)\n",
    "\n",
    "\n",
    "def consumer_func(queue):\n",
    "    while True:\n",
    "        task = queue.get()\n",
    "        if task is None:\n",
    "            print(f\"Got None, exiting\")\n",
    "            queue.task_done()\n",
    "            break\n",
    "        time.sleep(0.5)\n",
    "        queue.task_done()\n",
    "        print(f\"Task Done {task}\")\n",
    "\n",
    "queue = Queue()\n",
    "producer = Thread(target=producer_func(queue))\n",
    "consumer = Thread(target=consumer_func(queue))\n",
    "producer.start()\n",
    "consumer.start()\n",
    "queue.join()"
   ]
  },
  {
   "cell_type": "code",
   "execution_count": null,
   "metadata": {},
   "outputs": [],
   "source": [
    "import asyncio\n",
    "import time\n",
    "\n",
    "\n",
    "async def producer(queue):\n",
    "    print(f\"Putting {1}\")\n",
    "    await queue.put(1)\n",
    "    print(f\"Putting {2}\")\n",
    "    await queue.put(2)\n",
    "    print(f\"Producer waiting for more tasks\")\n",
    "    await asyncio.sleep(2)\n",
    "    print(f\"Putting {3}\")\n",
    "    await queue.put(3)\n",
    "    print(f\"Producer shuting down\")\n",
    "    await queue.put(None)\n",
    "\n",
    "\n",
    "async def consumer(queue):\n",
    "    while True:\n",
    "        task = await queue.get()\n",
    "        if task is None:\n",
    "            print(f\"Got None, exiting\")\n",
    "            queue.task_done()\n",
    "            break\n",
    "        time.sleep(0.5)\n",
    "        queue.task_done()\n",
    "        print(f\"Task Done {task}\")\n",
    "\n",
    "\n",
    "async def main():\n",
    "    queue = asyncio.queues.Queue()\n",
    "    producer_coro = asyncio.create_task(producer(queue))\n",
    "    consumer_coro = asyncio.create_task(consumer(queue))\n",
    "    await producer_coro\n",
    "    await consumer_coro\n",
    "    await queue.join()\n",
    "\n",
    "\n",
    "await main()\n"
   ]
  },
  {
   "cell_type": "code",
   "execution_count": null,
   "metadata": {},
   "outputs": [],
   "source": []
  },
  {
   "cell_type": "markdown",
   "metadata": {},
   "source": [
    "### Itertools"
   ]
  },
  {
   "cell_type": "code",
   "execution_count": null,
   "metadata": {},
   "outputs": [],
   "source": [
    "import itertools"
   ]
  },
  {
   "cell_type": "code",
   "execution_count": null,
   "metadata": {},
   "outputs": [],
   "source": [
    "list(itertools.chain([1, 2], (3, 4, 5), \"6\"))"
   ]
  },
  {
   "cell_type": "code",
   "execution_count": null,
   "metadata": {},
   "outputs": [],
   "source": [
    "list(itertools.repeat(1,5))"
   ]
  },
  {
   "cell_type": "code",
   "execution_count": null,
   "metadata": {},
   "outputs": [],
   "source": [
    "list(itertools.islice(itertools.count(), 4))"
   ]
  },
  {
   "cell_type": "markdown",
   "metadata": {},
   "source": [
    "### Enumerate"
   ]
  },
  {
   "cell_type": "code",
   "execution_count": null,
   "metadata": {},
   "outputs": [],
   "source": [
    "values = [\"a\",\"b\"]"
   ]
  },
  {
   "cell_type": "code",
   "execution_count": null,
   "metadata": {},
   "outputs": [],
   "source": [
    "# DONT DO THIS:\n",
    "for i in range(len(values)):\n",
    "    print(f\"values[{i}] = {values[i]}\")"
   ]
  },
  {
   "cell_type": "code",
   "execution_count": null,
   "metadata": {},
   "outputs": [],
   "source": [
    "for index, value in enumerate(values):\n",
    "    print(f\"values[{index}] = {value}\")"
   ]
  },
  {
   "cell_type": "code",
   "execution_count": null,
   "metadata": {},
   "outputs": [],
   "source": [
    "list(enumerate(values)) == [(0, \"a\"), (1, \"b\")]"
   ]
  },
  {
   "cell_type": "markdown",
   "metadata": {},
   "source": [
    "# TODO: dynamic class creation"
   ]
  },
  {
   "cell_type": "markdown",
   "metadata": {},
   "source": [
    "# TODO: virtualenv, python -m"
   ]
  },
  {
   "cell_type": "markdown",
   "metadata": {},
   "source": [
    "# TODO: Imports :("
   ]
  },
  {
   "cell_type": "markdown",
   "metadata": {},
   "source": [
    "# TODO: dynamic class creation"
   ]
  },
  {
   "cell_type": "markdown",
   "metadata": {},
   "source": [
    "# TODO: microbenchmarking"
   ]
  },
  {
   "cell_type": "markdown",
   "metadata": {},
   "source": [
    "### super() TODO"
   ]
  },
  {
   "cell_type": "code",
   "execution_count": null,
   "metadata": {},
   "outputs": [],
   "source": [
    "class Square(Rectangle):\n",
    "    def __init__(self, length):\n",
    "        super().__init__(length, length)\n",
    "\n",
    "class Cube(Square):\n",
    "    def surface_area(self):\n",
    "        face_area = super().area()\n",
    "        return face_area * 6\n",
    "\n",
    "    def volume(self):\n",
    "        face_area = super().area()\n",
    "        return face_area * self.length"
   ]
  }
 ],
 "metadata": {
  "kernelspec": {
   "display_name": "Python 3",
   "language": "python",
   "name": "python3"
  },
  "language_info": {
   "codemirror_mode": {
    "name": "ipython",
    "version": 3
   },
   "file_extension": ".py",
   "mimetype": "text/x-python",
   "name": "python",
   "nbconvert_exporter": "python",
   "pygments_lexer": "ipython3",
   "version": "3.8.0rc1"
  }
 },
 "nbformat": 4,
 "nbformat_minor": 2
}
