{
 "cells": [
  {
   "cell_type": "markdown",
   "metadata": {},
   "source": [
    "### Other useful contextlib members"
   ]
  },
  {
   "cell_type": "markdown",
   "metadata": {},
   "source": [
    "# TODO: multiple managers in one with"
   ]
  },
  {
   "cell_type": "markdown",
   "metadata": {},
   "source": [
    "# TODO: "
   ]
  },
  {
   "cell_type": "markdown",
   "metadata": {},
   "source": [
    "https://docs.python.org/3/library/contextlib.html"
   ]
  },
  {
   "cell_type": "markdown",
   "metadata": {},
   "source": [
    "https://www.rath.org/on-the-beauty-of-pythons-exitstack.html"
   ]
  },
  {
   "cell_type": "markdown",
   "metadata": {},
   "source": [
    "### Multiple inheritance, method resolution order (mro)"
   ]
  },
  {
   "cell_type": "code",
   "execution_count": null,
   "metadata": {},
   "outputs": [],
   "source": [
    "class A:\n",
    "    def f(self):\n",
    "        print(\"A\")\n",
    "\n",
    "class B:\n",
    "    def f(self):\n",
    "        print(\"B\")\n",
    "\n",
    "class C(B,A):\n",
    "    pass\n",
    "\n",
    "C().f()                             \n",
    "print(C.mro())"
   ]
  },
  {
   "cell_type": "code",
   "execution_count": null,
   "metadata": {},
   "outputs": [],
   "source": [
    "class C(A, B):\n",
    "    pass\n",
    "\n",
    "C().f()                             \n",
    "print(C.mro())"
   ]
  },
  {
   "cell_type": "code",
   "execution_count": 50,
   "metadata": {},
   "outputs": [
    {
     "ename": "NameError",
     "evalue": "name 'A' is not defined",
     "output_type": "error",
     "traceback": [
      "\u001b[0;31m---------------------------------------------------------------------------\u001b[0m",
      "\u001b[0;31mNameError\u001b[0m                                 Traceback (most recent call last)",
      "\u001b[0;32m<ipython-input-50-79ed242d162e>\u001b[0m in \u001b[0;36m<module>\u001b[0;34m\u001b[0m\n\u001b[0;32m----> 1\u001b[0;31m \u001b[0;32mclass\u001b[0m \u001b[0mC\u001b[0m\u001b[0;34m(\u001b[0m\u001b[0mA\u001b[0m\u001b[0;34m,\u001b[0m \u001b[0mB\u001b[0m\u001b[0;34m)\u001b[0m\u001b[0;34m:\u001b[0m\u001b[0;34m\u001b[0m\u001b[0;34m\u001b[0m\u001b[0m\n\u001b[0m\u001b[1;32m      2\u001b[0m     \u001b[0;32mdef\u001b[0m \u001b[0mf\u001b[0m\u001b[0;34m(\u001b[0m\u001b[0mself\u001b[0m\u001b[0;34m)\u001b[0m\u001b[0;34m:\u001b[0m\u001b[0;34m\u001b[0m\u001b[0;34m\u001b[0m\u001b[0m\n\u001b[1;32m      3\u001b[0m         \u001b[0mB\u001b[0m\u001b[0;34m.\u001b[0m\u001b[0mf\u001b[0m\u001b[0;34m(\u001b[0m\u001b[0mself\u001b[0m\u001b[0;34m)\u001b[0m \u001b[0;31m# in general class.method(self) == object.method()\u001b[0m\u001b[0;34m\u001b[0m\u001b[0;34m\u001b[0m\u001b[0m\n\u001b[1;32m      4\u001b[0m \u001b[0;34m\u001b[0m\u001b[0m\n\u001b[1;32m      5\u001b[0m \u001b[0mC\u001b[0m\u001b[0;34m(\u001b[0m\u001b[0;34m)\u001b[0m\u001b[0;34m.\u001b[0m\u001b[0mf\u001b[0m\u001b[0;34m(\u001b[0m\u001b[0;34m)\u001b[0m\u001b[0;34m\u001b[0m\u001b[0;34m\u001b[0m\u001b[0m\n",
      "\u001b[0;31mNameError\u001b[0m: name 'A' is not defined"
     ]
    }
   ],
   "source": [
    "class C(A, B):\n",
    "    def f(self):\n",
    "        B.f(self) # in general class.method(self) == object.method()\n",
    "\n",
    "C().f()"
   ]
  },
  {
   "cell_type": "markdown",
   "metadata": {},
   "source": [
    "### debugging - pdb"
   ]
  },
  {
   "cell_type": "code",
   "execution_count": null,
   "metadata": {},
   "outputs": [],
   "source": []
  },
  {
   "cell_type": "markdown",
   "metadata": {},
   "source": [
    "### Asyncio"
   ]
  },
  {
   "cell_type": "code",
   "execution_count": null,
   "metadata": {},
   "outputs": [],
   "source": [
    "import asyncio\n",
    "import time\n",
    "\n",
    "\n",
    "async def say_after(delay, what):\n",
    "    await asyncio.sleep(delay)\n",
    "    print(what)\n",
    "\n",
    "\n",
    "async def main():\n",
    "    task1 = asyncio.create_task(say_after(1, \"hello\"))\n",
    "\n",
    "    task2 = asyncio.create_task(say_after(2, \"world\"))\n",
    "\n",
    "    print(f\"started at {time.strftime('%X')}\")\n",
    "\n",
    "    # Wait until both tasks are completed (should take\n",
    "    # around 2 seconds.)\n",
    "    await task1\n",
    "    await task2\n",
    "\n",
    "    print(f\"finished at {time.strftime('%X')}\")\n",
    "\n",
    "await main()"
   ]
  },
  {
   "cell_type": "markdown",
   "metadata": {},
   "source": [
    "Normally you would use ```asyncio.run(main())```, jupyter (IPython) is already running an event loop"
   ]
  },
  {
   "cell_type": "code",
   "execution_count": null,
   "metadata": {},
   "outputs": [],
   "source": [
    "import time\n",
    "from queue import Queue\n",
    "from threading import Thread\n",
    "\n",
    "\n",
    "def producer_func(queue):\n",
    "    print(f\"Putting {1}\")\n",
    "    queue.put(1)\n",
    "    print(f\"Putting {2}\")\n",
    "    queue.put(2)\n",
    "    print(f\"Producer waiting for more tasks\")\n",
    "    time.sleep(2)\n",
    "    print(f\"Putting {3}\")\n",
    "    queue.put(3)\n",
    "    print(f\"Producer shuting down\")\n",
    "    queue.put(None)\n",
    "\n",
    "\n",
    "def consumer_func(queue):\n",
    "    while True:\n",
    "        task = queue.get()\n",
    "        if task is None:\n",
    "            print(f\"Got None, exiting\")\n",
    "            queue.task_done()\n",
    "            break\n",
    "        time.sleep(0.5)\n",
    "        queue.task_done()\n",
    "        print(f\"Task Done {task}\")\n",
    "\n",
    "queue = Queue()\n",
    "producer = Thread(target=producer_func(queue))\n",
    "consumer = Thread(target=consumer_func(queue))\n",
    "producer.start()\n",
    "consumer.start()\n",
    "queue.join()"
   ]
  },
  {
   "cell_type": "code",
   "execution_count": null,
   "metadata": {},
   "outputs": [],
   "source": [
    "import asyncio\n",
    "import time\n",
    "\n",
    "\n",
    "async def producer(queue):\n",
    "    print(f\"Putting {1}\")\n",
    "    await queue.put(1)\n",
    "    print(f\"Putting {2}\")\n",
    "    await queue.put(2)\n",
    "    print(f\"Producer waiting for more tasks\")\n",
    "    await asyncio.sleep(2)\n",
    "    print(f\"Putting {3}\")\n",
    "    await queue.put(3)\n",
    "    print(f\"Producer shuting down\")\n",
    "    await queue.put(None)\n",
    "\n",
    "\n",
    "async def consumer(queue):\n",
    "    while True:\n",
    "        task = await queue.get()\n",
    "        if task is None:\n",
    "            print(f\"Got None, exiting\")\n",
    "            queue.task_done()\n",
    "            break\n",
    "        time.sleep(0.5)\n",
    "        queue.task_done()\n",
    "        print(f\"Task Done {task}\")\n",
    "\n",
    "\n",
    "async def main():\n",
    "    queue = asyncio.queues.Queue()\n",
    "    producer_coro = asyncio.create_task(producer(queue))\n",
    "    consumer_coro = asyncio.create_task(consumer(queue))\n",
    "    await producer_coro\n",
    "    await consumer_coro\n",
    "    await queue.join()\n",
    "\n",
    "\n",
    "await main()\n"
   ]
  },
  {
   "cell_type": "code",
   "execution_count": null,
   "metadata": {},
   "outputs": [],
   "source": []
  },
  {
   "cell_type": "markdown",
   "metadata": {},
   "source": [
    "### Itertools"
   ]
  },
  {
   "cell_type": "code",
   "execution_count": null,
   "metadata": {},
   "outputs": [],
   "source": [
    "import itertools"
   ]
  },
  {
   "cell_type": "code",
   "execution_count": null,
   "metadata": {},
   "outputs": [],
   "source": [
    "list(itertools.chain([1, 2], (3, 4, 5), \"6\"))"
   ]
  },
  {
   "cell_type": "code",
   "execution_count": null,
   "metadata": {},
   "outputs": [],
   "source": [
    "list(itertools.repeat(1,5))"
   ]
  },
  {
   "cell_type": "code",
   "execution_count": null,
   "metadata": {},
   "outputs": [],
   "source": [
    "list(itertools.islice(itertools.count(), 4))"
   ]
  },
  {
   "cell_type": "markdown",
   "metadata": {},
   "source": [
    "### Enumerate"
   ]
  },
  {
   "cell_type": "code",
   "execution_count": null,
   "metadata": {},
   "outputs": [],
   "source": [
    "values = [\"a\",\"b\"]"
   ]
  },
  {
   "cell_type": "code",
   "execution_count": null,
   "metadata": {},
   "outputs": [],
   "source": [
    "# DONT DO THIS:\n",
    "for i in range(len(values)):\n",
    "    print(f\"values[{i}] = {values[i]}\")"
   ]
  },
  {
   "cell_type": "code",
   "execution_count": null,
   "metadata": {},
   "outputs": [],
   "source": [
    "for index, value in enumerate(values):\n",
    "    print(f\"values[{index}] = {value}\")"
   ]
  },
  {
   "cell_type": "code",
   "execution_count": null,
   "metadata": {},
   "outputs": [],
   "source": [
    "list(enumerate(values)) == [(0, \"a\"), (1, \"b\")]"
   ]
  },
  {
   "cell_type": "markdown",
   "metadata": {},
   "source": [
    "# TODO: dynamic class creation"
   ]
  },
  {
   "cell_type": "markdown",
   "metadata": {},
   "source": [
    "# TODO: virtualenv, python -m"
   ]
  },
  {
   "cell_type": "markdown",
   "metadata": {},
   "source": [
    "# TODO: Imports :("
   ]
  },
  {
   "cell_type": "markdown",
   "metadata": {},
   "source": [
    "# TODO: dynamic class creation"
   ]
  },
  {
   "cell_type": "markdown",
   "metadata": {},
   "source": [
    "# TODO: microbenchmarking"
   ]
  },
  {
   "cell_type": "markdown",
   "metadata": {},
   "source": [
    "### super() TODO"
   ]
  },
  {
   "cell_type": "code",
   "execution_count": null,
   "metadata": {},
   "outputs": [],
   "source": [
    "class Square(Rectangle):\n",
    "    def __init__(self, length):\n",
    "        super().__init__(length, length)\n",
    "\n",
    "class Cube(Square):\n",
    "    def surface_area(self):\n",
    "        face_area = super().area()\n",
    "        return face_area * 6\n",
    "\n",
    "    def volume(self):\n",
    "        face_area = super().area()\n",
    "        return face_area * self.length"
   ]
  }
 ],
 "metadata": {
  "kernelspec": {
   "display_name": "Python 3",
   "language": "python",
   "name": "python3"
  },
  "language_info": {
   "codemirror_mode": {
    "name": "ipython",
    "version": 3
   },
   "file_extension": ".py",
   "mimetype": "text/x-python",
   "name": "python",
   "nbconvert_exporter": "python",
   "pygments_lexer": "ipython3",
   "version": "3.8.0rc1"
  }
 },
 "nbformat": 4,
 "nbformat_minor": 2
}
