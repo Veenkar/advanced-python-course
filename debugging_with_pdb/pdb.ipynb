{
 "cells": [
  {
   "cell_type": "markdown",
   "metadata": {
    "slideshow": {
     "slide_type": "slide"
    }
   },
   "source": [
    "# Advanced python CoP - debugging any python code anywhere with pdb"
   ]
  },
  {
   "cell_type": "code",
   "execution_count": 2,
   "metadata": {},
   "outputs": [
    {
     "data": {
      "text/html": [
       "<blockquote class=\"reddit-card\" data-card-created=\"1587923907\"><a href=\"https://www.reddit.com/r/ProgrammerHumor/comments/g0o1x3/the_holy_print_statement/\">The holy print statement</a> from <a href=\"http://www.reddit.com/r/ProgrammerHumor\">r/ProgrammerHumor</a></blockquote>\n",
       "<script async src=\"//embed.redditmedia.com/widgets/platform.js\" charset=\"UTF-8\"></script>\n"
      ],
      "text/plain": [
       "<IPython.core.display.HTML object>"
      ]
     },
     "metadata": {},
     "output_type": "display_data"
    }
   ],
   "source": [
    "%%HTML\n",
    "<blockquote class=\"reddit-card\" data-card-created=\"1587923907\"><a href=\"https://www.reddit.com/r/ProgrammerHumor/comments/g0o1x3/the_holy_print_statement/\">The holy print statement</a> from <a href=\"http://www.reddit.com/r/ProgrammerHumor\">r/ProgrammerHumor</a></blockquote>\n",
    "<script async src=\"//embed.redditmedia.com/widgets/platform.js\" charset=\"UTF-8\"></script>"
   ]
  },
  {
   "cell_type": "markdown",
   "metadata": {},
   "source": [
    "## How to start debugging?\n",
    "\n",
    "- from the shell\n",
    "<shell>```\n",
    "python -m pdb <filename_or_modulename>\n",
    "```\n",
    "- from the code\n",
    "    <python>`import pdb; pdb.settrace()`\n",
    "- from the code for python 3.7+ <python>`breakpoint()`        \n",
    "\n",
    "You can disable all `breakpoint` calls with env variable: PYTHONBREAKPOINT=0  \n",
    "or use another debugger with PYTHONBREAKPOINT=ipdb.set_trace"
   ]
  },
  {
   "cell_type": "markdown",
   "metadata": {},
   "source": [
    "### Shell trick when the python script is in PATH\n",
    "\n",
    "<shell>`python -m pdb $(which apt) update`"
   ]
  },
  {
   "cell_type": "markdown",
   "metadata": {},
   "source": [
    "I could do a demo in ipython, but the callstack is a little cluttered and scrolling doesn't work well, so let's start the live demo in terminal."
   ]
  },
  {
   "cell_type": "markdown",
   "metadata": {},
   "source": [
    "## Essential pdb commands\n",
    "\n",
    "- h(elp) -> print help\n",
    "- h(elp) `<command>` -> print help for specific command\n",
    "- l(ist) -> print current context\n",
    "- w(here) -> print call stack\n",
    "- s(tep) -> step into\n",
    "- n(ext) -> next line\n",
    "- b(reak) -> put a breakpoint\n",
    "- u(p) -> go up the callstack\n",
    "- d(own) -> go down the callstack"
   ]
  },
  {
   "cell_type": "markdown",
   "metadata": {},
   "source": [
    "## There are a lot of pdb flavours:\n",
    "- ipdb -> pdb with ipython shell\n",
    "- pubd -> ncurses version"
   ]
  },
  {
   "cell_type": "code",
   "execution_count": 13,
   "metadata": {},
   "outputs": [
    {
     "data": {
      "text/html": [
       "<img src=\"https://warehouse-camo.ingress.cmh1.psfhosted.org/d45b1912ee7774c2d0f86abff0815d631290243b/68747470733a2f2f74696b65722e6e65742f7075622f707564622d73637265656e73686f742e706e67\n",
       "\">\n"
      ],
      "text/plain": [
       "<IPython.core.display.HTML object>"
      ]
     },
     "metadata": {},
     "output_type": "display_data"
    }
   ],
   "source": [
    "%%HTML \n",
    "<img src=\"https://warehouse-camo.ingress.cmh1.psfhosted.org/d45b1912ee7774c2d0f86abff0815d631290243b/68747470733a2f2f74696b65722e6e65742f7075622f707564622d73637265656e73686f742e706e67\n",
    "\">"
   ]
  },
  {
   "cell_type": "markdown",
   "metadata": {},
   "source": [
    "## web_db -> browser debugger "
   ]
  },
  {
   "cell_type": "code",
   "execution_count": 15,
   "metadata": {},
   "outputs": [
    {
     "data": {
      "text/html": [
       "<img src=\"https://warehouse-camo.ingress.cmh1.psfhosted.org/314b80b2f939bb4289633ad6a9c307a7147be20e/68747470733a2f2f7261772e67697468756275736572636f6e74656e742e636f6d2f726f6d616e766d2f707974686f6e2d7765622d7064622f6d61737465722f73637265656e73686f742e706e67\">\n"
      ],
      "text/plain": [
       "<IPython.core.display.HTML object>"
      ]
     },
     "metadata": {},
     "output_type": "display_data"
    }
   ],
   "source": [
    "%%HTML\n",
    "<img src=\"https://warehouse-camo.ingress.cmh1.psfhosted.org/314b80b2f939bb4289633ad6a9c307a7147be20e/68747470733a2f2f7261772e67697468756275736572636f6e74656e742e636f6d2f726f6d616e766d2f707974686f6e2d7765622d7064622f6d61737465722f73637265656e73686f742e706e67\">"
   ]
  },
  {
   "cell_type": "markdown",
   "metadata": {},
   "source": [
    "## Best practice\n",
    "- most of the time you're probably better off with your IDE/editor debugger\n",
    "- use something pdb-ish when it's hard to integrate IDE/editor debugger or integration is not worth the effort\n",
    "- your editor can't debug python code"
   ]
  }
 ],
 "metadata": {
  "kernelspec": {
   "display_name": "Python 3",
   "language": "python",
   "name": "python3"
  },
  "language_info": {
   "codemirror_mode": {
    "name": "ipython",
    "version": 3
   },
   "file_extension": ".py",
   "mimetype": "text/x-python",
   "name": "python",
   "nbconvert_exporter": "python",
   "pygments_lexer": "ipython3",
   "version": "3.8.2"
  }
 },
 "nbformat": 4,
 "nbformat_minor": 2
}
