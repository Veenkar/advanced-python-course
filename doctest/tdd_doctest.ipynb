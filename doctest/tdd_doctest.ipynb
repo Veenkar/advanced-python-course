{
 "cells": [
  {
   "cell_type": "markdown",
   "metadata": {
    "slideshow": {
     "slide_type": "slide"
    }
   },
   "source": [
    "# Advanced python CoP"
   ]
  },
  {
   "cell_type": "markdown",
   "metadata": {},
   "source": [
    "## Table of contents:\n",
    "* TDD\n",
    "* Doctest\n",
    "* Live coding"
   ]
  },
  {
   "cell_type": "markdown",
   "metadata": {},
   "source": [
    "### All you need to know about TDD in one picture:"
   ]
  },
  {
   "cell_type": "code",
   "execution_count": 3,
   "metadata": {},
   "outputs": [
    {
     "data": {
      "text/html": [
       "<img src=https://upload.wikimedia.org/wikipedia/commons/thumb/0/0b/TDD_Global_Lifecycle.png/2560px-TDD_Global_Lifecycle.png> \n",
       "</img>\n"
      ],
      "text/plain": [
       "<IPython.core.display.HTML object>"
      ]
     },
     "metadata": {},
     "output_type": "display_data"
    }
   ],
   "source": [
    "%%HTML\n",
    "<img src=https://upload.wikimedia.org/wikipedia/commons/thumb/0/0b/TDD_Global_Lifecycle.png/2560px-TDD_Global_Lifecycle.png> \n",
    "</img>"
   ]
  },
  {
   "cell_type": "markdown",
   "metadata": {},
   "source": [
    "### Doctest  - write simple unit tests in doc strings"
   ]
  },
  {
   "cell_type": "code",
   "execution_count": 14,
   "metadata": {},
   "outputs": [],
   "source": [
    "def divide(a, b):\n",
    "    \"\"\"\n",
    "    >>> divide(4,2)\n",
    "    2.0\n",
    "    >>> divide(2/0)\n",
    "    Traceback (most recent call last):\n",
    "      ...\n",
    "    ZeroDivisionError: division by zero\n",
    "    >>> a = 10\n",
    "    >>> b = 5\n",
    "    >>> divide(a,b)\n",
    "    2.0\n",
    "    \"\"\"\n",
    "    return a / b"
   ]
  },
  {
   "cell_type": "markdown",
   "metadata": {},
   "source": [
    "Aaand that's all you need to know about writing doctests."
   ]
  },
  {
   "cell_type": "markdown",
   "metadata": {},
   "source": [
    "During development it's best to use IDE runner, but you can programatically run doctests from current file"
   ]
  },
  {
   "cell_type": "code",
   "execution_count": 6,
   "metadata": {},
   "outputs": [
    {
     "name": "stdout",
     "output_type": "stream",
     "text": [
      "Trying:\n",
      "    divide(4,2)\n",
      "Expecting:\n",
      "    2.0\n",
      "ok\n",
      "Trying:\n",
      "    divide(2/0)\n",
      "Expecting:\n",
      "    Traceback (most recent call last):\n",
      "      ...\n",
      "    ZeroDivisionError: division by zero\n",
      "ok\n",
      "1 items had no tests:\n",
      "    __main__\n",
      "1 items passed all tests:\n",
      "   2 tests in __main__.divide\n",
      "2 tests in 2 items.\n",
      "2 passed and 0 failed.\n",
      "Test passed.\n"
     ]
    },
    {
     "data": {
      "text/plain": [
       "TestResults(failed=0, attempted=2)"
      ]
     },
     "execution_count": 6,
     "metadata": {},
     "output_type": "execute_result"
    }
   ],
   "source": [
    "import doctest\n",
    "doctest.testmod(verbose=True)"
   ]
  },
  {
   "cell_type": "markdown",
   "metadata": {},
   "source": [
    "In automated tests you may use doctest discovery from pytest to find and run all doctests in module recursively"
   ]
  },
  {
   "cell_type": "code",
   "execution_count": null,
   "metadata": {},
   "outputs": [],
   "source": [
    "! pip install pytest --user"
   ]
  },
  {
   "cell_type": "code",
   "execution_count": null,
   "metadata": {},
   "outputs": [],
   "source": [
    "! pytest --doctest-modules"
   ]
  },
  {
   "cell_type": "markdown",
   "metadata": {},
   "source": [
    "### Live coding"
   ]
  },
  {
   "cell_type": "code",
   "execution_count": 17,
   "metadata": {},
   "outputs": [],
   "source": [
    "import io\n",
    "import re\n",
    "from typing import Dict, Union\n",
    "\n",
    "filename = \"file.vbf\"\n",
    "\n",
    "\n",
    "def _remove_commented_lines(header_body: str) -> str:\n",
    "    \"\"\"\n",
    "    >>> header = \"before\\\\n // comment\\\\nafter\"\n",
    "    >>> _remove_commented_lines(header)\n",
    "    'before\\\\n after'\n",
    "\n",
    "    \"\"\"\n",
    "    return re.sub(r\"//[^\\n]+\\n\", \"\", header_body)\n",
    "\n",
    "\n",
    "def _read_until(fp: io.BytesIO, pattern: str) -> None:\n",
    "    \"\"\"\n",
    "    >>> file = io.BytesIO(\"trash header  {real_body\".encode())\n",
    "    >>> _read_until(file, r\"header\\s*{\")\n",
    "    >>> file.read().decode()\n",
    "    'real_body'\n",
    "    \"\"\"\n",
    "    value = \"\"\n",
    "    while not re.search(pattern, value):\n",
    "        value += fp.read(1).decode()\n",
    "\n",
    "\n",
    "def extract_header_body(fp: io.BytesIO) -> str:\n",
    "    \"\"\"\n",
    "    >>> extract_header_body(io.BytesIO(\"trash \\\\n header { body} other trash\".encode()))\n",
    "    \"body\"\n",
    "    \"\"\"\n",
    "    _read_until(fp, r\"header\\s*{\")\n",
    "    # TODO: not finished\n",
    "    return fp.read().decode()\n",
    "\n",
    "\n",
    "def parse_vbf_header(header_body: str) -> Dict[str, Union[str, int]]:\n",
    "    pass\n",
    "\n",
    "\n",
    "with open(filename, \"rb\") as file:\n",
    "    header_body = extract_header_body(file)\n",
    "header = parse_vbf_header(header_body)\n"
   ]
  }
 ],
 "metadata": {
  "kernelspec": {
   "display_name": "Python 3",
   "language": "python",
   "name": "python3"
  },
  "language_info": {
   "codemirror_mode": {
    "name": "ipython",
    "version": 3
   },
   "file_extension": ".py",
   "mimetype": "text/x-python",
   "name": "python",
   "nbconvert_exporter": "python",
   "pygments_lexer": "ipython3",
   "version": "3.8.0"
  }
 },
 "nbformat": 4,
 "nbformat_minor": 2
}
